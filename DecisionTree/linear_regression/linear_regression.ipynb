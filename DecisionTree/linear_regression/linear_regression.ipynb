{
 "cells": [
  {
   "cell_type": "code",
   "execution_count": 572,
   "id": "1ebce4a1-cba9-4db4-bc20-a20050a13395",
   "metadata": {},
   "outputs": [],
   "source": [
    "import numpy as np\n",
    "import pandas as pd\n",
    "import matplotlib.pyplot as plt"
   ]
  },
  {
   "cell_type": "markdown",
   "id": "df9782fd-7eb3-4520-aa99-9d1163ab94fc",
   "metadata": {},
   "source": [
    "Matthew Lowery"
   ]
  },
  {
   "cell_type": "markdown",
   "id": "2f4b35e7-5fe5-41aa-9e0f-25a2a82148a5",
   "metadata": {},
   "source": [
    "### Load Concrete Dataset"
   ]
  },
  {
   "cell_type": "code",
   "execution_count": 573,
   "id": "71b3abef-2c56-4b94-847d-dc493c1a72bc",
   "metadata": {},
   "outputs": [],
   "source": [
    "# load dataset \n",
    "train_fp =  '../datasets/concrete/train.csv'\n",
    "test_fp = '../datasets/concrete/test.csv'\n",
    "\n",
    "train_data = pd.read_csv(train_fp, header=None).to_numpy()\n",
    "test_data =  pd.read_csv(test_fp, header=None).to_numpy()\n",
    "\n",
    "X,y = train_data[:,:-1], train_data[:,-1]\n",
    "X_test, y_test= test_data[:,:-1], test_data[:,-1]"
   ]
  },
  {
   "cell_type": "code",
   "execution_count": 574,
   "id": "dd8523c5-71fd-4653-a73c-1f8c5a7a720d",
   "metadata": {},
   "outputs": [],
   "source": [
    "np.random.seed(seed=1)"
   ]
  },
  {
   "cell_type": "code",
   "execution_count": 575,
   "id": "78187f69-4807-495f-9007-b5d25cf05ab3",
   "metadata": {},
   "outputs": [],
   "source": [
    "W = np.zeros((X.shape[1]))"
   ]
  },
  {
   "cell_type": "markdown",
   "id": "b21dc158-b0a5-4db7-8eb4-dbc7cbec9ef4",
   "metadata": {},
   "source": [
    "### Batch Gradient Descent"
   ]
  },
  {
   "cell_type": "code",
   "execution_count": 576,
   "id": "2e42466d-39e6-4ff6-882c-cbef42cc4e97",
   "metadata": {},
   "outputs": [
    {
     "name": "stdout",
     "output_type": "stream",
     "text": [
      "epoch=0, train_losses[epoch]=22.325149676824875\n",
      "epoch=1000, train_losses[epoch]=15.02872444847954\n",
      "epoch=2000, train_losses[epoch]=14.991847174035994\n",
      "epoch=3000, train_losses[epoch]=14.988214835986968\n",
      "epoch=4000, train_losses[epoch]=14.987857057927132\n",
      "epoch=5000, train_losses[epoch]=14.987821817501166\n",
      "epoch=6000, train_losses[epoch]=14.987818346389428\n",
      "epoch=7000, train_losses[epoch]=14.987818004491844\n",
      "epoch=8000, train_losses[epoch]=14.98781797081561\n",
      "epoch=9000, train_losses[epoch]=14.98781796749857\n",
      "epoch=10000, train_losses[epoch]=14.987817967171848\n",
      "converged\n"
     ]
    }
   ],
   "source": [
    "epochs = 20000\n",
    "train_losses = np.zeros((epochs))\n",
    "test_losses = np.zeros((epochs))\n",
    "lr = 0.01\n",
    "calc_loss = lambda y, y_pred: 0.5*((y-y_pred)**2).sum()\n",
    "calc_dW = lambda y,y_pred, X: - X.T @ (y-y_pred)\n",
    "\n",
    "for epoch in range(epochs):\n",
    "    \n",
    "    y_pred = X @ W \n",
    "    train_losses[epoch] = calc_loss(y,y_pred)\n",
    "    dW = calc_dW(y,y_pred, X)\n",
    "    norm_dW = np.sqrt((dW**2).sum())\n",
    "    if norm_dW <= (10 ** -6):\n",
    "        print(f'converged')\n",
    "        converge_epoch = epoch\n",
    "        break\n",
    "    W -= lr * dW\n",
    "    if epoch % 1000 == 0:\n",
    "        print(f'{epoch=}, {train_losses[epoch]=}')\n"
   ]
  },
  {
   "cell_type": "code",
   "execution_count": 577,
   "id": "f0897136-2fe3-4ed0-8ddc-ddcc1fbfa5dc",
   "metadata": {},
   "outputs": [
    {
     "data": {
      "image/png": "[encoded data removed]",
      "text/plain": [
       "<Figure size 640x480 with 1 Axes>"
      ]
     },
     "metadata": {},
     "output_type": "display_data"
    }
   ],
   "source": [
    "plt.plot(train_losses[:converge_epoch])\n",
    "plt.xlabel('epoch'), plt.ylabel('cost'), plt.title('batch gradient descent')\n",
    "plt.savefig('batch_gradient_descent_loss_curve')"
   ]
  },
  {
   "cell_type": "code",
   "execution_count": 578,
   "id": "856c92a6-9f4c-459f-b482-b65434fdd7f5",
   "metadata": {},
   "outputs": [
    {
     "name": "stdout",
     "output_type": "stream",
     "text": [
      "batch GD final weight vector [0.92154616 0.80829087 0.87397064 1.31428506 0.13392319 1.59904283\n",
      " 1.02028855]\n",
      "batch GD final train_loss = 14.987817967140462\n",
      "batch GD final test_loss = 23.361319616349338\n"
     ]
    }
   ],
   "source": [
    "y_pred_test = X_test @ W\n",
    "y_pred_train = X @ W\n",
    "print(f'batch GD final weight vector {W}')\n",
    "print(f'batch GD final train_loss = {calc_loss(y,y_pred_train)}')\n",
    "print(f'batch GD final test_loss = {calc_loss(y_test,y_pred_test)}')"
   ]
  },
  {
   "cell_type": "markdown",
   "id": "9264d02e-28fc-4c54-afa0-c65da95cfa80",
   "metadata": {},
   "source": [
    "## Stochastic Gradient Descent"
   ]
  },
  {
   "cell_type": "code",
   "execution_count": 579,
   "id": "944d4406-bc3e-445c-93ac-15c1d3966583",
   "metadata": {},
   "outputs": [],
   "source": [
    "W = np.zeros((X.shape[1]))"
   ]
  },
  {
   "cell_type": "code",
   "execution_count": 580,
   "id": "bcaa8f81-3a0e-4db9-894a-fd2061f6197f",
   "metadata": {},
   "outputs": [
    {
     "name": "stdout",
     "output_type": "stream",
     "text": [
      "epoch=0, train_losses[epoch]=22.325149676824875\n",
      "epoch=2000, train_losses[epoch]=16.137663042705313\n",
      "epoch=4000, train_losses[epoch]=15.608092576443074\n",
      "epoch=6000, train_losses[epoch]=15.585801364276678\n",
      "epoch=8000, train_losses[epoch]=15.474665937740385\n",
      "epoch=10000, train_losses[epoch]=15.445222704785772\n",
      "epoch=12000, train_losses[epoch]=15.407713966861696\n",
      "epoch=14000, train_losses[epoch]=15.40391127941506\n",
      "epoch=16000, train_losses[epoch]=15.445851053374982\n",
      "epoch=18000, train_losses[epoch]=15.42504656731707\n",
      "epoch=20000, train_losses[epoch]=15.448144689604401\n",
      "epoch=22000, train_losses[epoch]=15.449596355105454\n",
      "epoch=24000, train_losses[epoch]=15.385318120573967\n",
      "epoch=26000, train_losses[epoch]=15.399808063721837\n",
      "epoch=28000, train_losses[epoch]=15.43325905943399\n",
      "epoch=30000, train_losses[epoch]=15.42228173829657\n",
      "epoch=32000, train_losses[epoch]=15.405563537253007\n",
      "epoch=34000, train_losses[epoch]=15.381668917116349\n"
     ]
    }
   ],
   "source": [
    "epochs = 35000\n",
    "train_losses = np.zeros((epochs))\n",
    "lr = 0.001\n",
    "\n",
    "for epoch in range(epochs): # amount of times we go through entire dataset \n",
    "    i = np.random.choice(len(X))\n",
    "\n",
    "    y_pred = X @ W \n",
    "    train_losses[epoch] = calc_loss(y,y_pred)\n",
    "    # single example gradient\n",
    "    dW = calc_dW(y[None,i],X[i] @ W, X[None,i]) \n",
    "    W -= lr * dW\n",
    "    \n",
    "    if epoch % 2000 == 0:\n",
    "        print(f'{epoch=}, {train_losses[epoch]=}')\n",
    "        \n",
    "    "
   ]
  },
  {
   "cell_type": "code",
   "execution_count": 581,
   "id": "d9e4d6e4-4bb1-434f-b0db-24066960893a",
   "metadata": {},
   "outputs": [
    {
     "data": {
      "image/png": "[encoded data removed]",
      "text/plain": [
       "<Figure size 640x480 with 1 Axes>"
      ]
     },
     "metadata": {},
     "output_type": "display_data"
    }
   ],
   "source": [
    "plt.plot(train_losses)\n",
    "plt.xlabel('epoch'), plt.ylabel('cost'), plt.title('stochastic gradient descent')\n",
    "plt.savefig('stochastic_gradient_descent_loss_curve')"
   ]
  },
  {
   "cell_type": "code",
   "execution_count": 582,
   "id": "0b117dfb-9b9a-4942-bec2-6bc3fc39531c",
   "metadata": {},
   "outputs": [
    {
     "name": "stdout",
     "output_type": "stream",
     "text": [
      "stochastic GD final weight vector [-0.04304151 -0.17154071 -0.17141531  0.55623859 -0.00983113  0.31025714\n",
      "  0.04010057]\n",
      "stochastic GD final train_loss = 15.366411076566578\n",
      "stochastic GD final test_loss = 22.65974725649884\n"
     ]
    }
   ],
   "source": [
    "y_pred_test = X_test @ W\n",
    "y_pred_train = X @ W\n",
    "print(f'stochastic GD final weight vector {W}')\n",
    "print(f'stochastic GD final train_loss = {calc_loss(y,y_pred_train)}')\n",
    "print(f'stochastic GD final test_loss = {calc_loss(y_test,y_pred_test)}')"
   ]
  },
  {
   "cell_type": "markdown",
   "id": "a01aa4ea-15cf-4a75-9625-35c0f3285ca7",
   "metadata": {},
   "source": [
    "### Analytical Solution"
   ]
  },
  {
   "cell_type": "code",
   "execution_count": 583,
   "id": "858726d5-1a36-4020-9186-68c2b6c03b90",
   "metadata": {},
   "outputs": [],
   "source": [
    "W = np.linalg.inv(X.T @ X) @ X.T @ y"
   ]
  },
  {
   "cell_type": "code",
   "execution_count": 584,
   "id": "2eb6817c-84da-4f88-bfe5-5220d931c987",
   "metadata": {},
   "outputs": [
    {
     "name": "stdout",
     "output_type": "stream",
     "text": [
      "analytical soln weight vector [0.92154947 0.80829428 0.87397433 1.3142877  0.13392374 1.59904727\n",
      " 1.02029192]\n",
      "analytical soln train_loss = 14.98781796713615\n",
      "analytical soln test_loss = 23.361324404157926\n"
     ]
    }
   ],
   "source": [
    "y_pred_train = X @ W\n",
    "y_pred_test = X_test @ W\n",
    "\n",
    "print(f'analytical soln weight vector {W}')\n",
    "print(f'analytical soln train_loss = {calc_loss(y,y_pred_train)}')\n",
    "print(f'analytical soln test_loss = {calc_loss(y_test,y_pred_test)}')"
   ]
  },
  {
   "cell_type": "code",
   "execution_count": null,
   "id": "b7672433-e8e5-46d5-9384-33cb603febf7",
   "metadata": {},
   "outputs": [],
   "source": []
  },
  {
   "cell_type": "code",
   "execution_count": null,
   "id": "211ba04f-5e85-4f97-8c8d-d7eb771c8e80",
   "metadata": {},
   "outputs": [],
   "source": []
  },
  {
   "cell_type": "code",
   "execution_count": null,
   "id": "af1a737a-5132-4738-a619-61d7db61b2a4",
   "metadata": {},
   "outputs": [],
   "source": []
  },
  {
   "cell_type": "code",
   "execution_count": null,
   "id": "205a7ec1-fadd-4d5b-a982-89c737551bf3",
   "metadata": {},
   "outputs": [],
   "source": []
  },
  {
   "cell_type": "markdown",
   "id": "13cfb61e-a23d-4178-afe7-aff1792ad7b2",
   "metadata": {},
   "source": [
    "### Problem number 5 in paper problems"
   ]
  },
  {
   "cell_type": "code",
   "execution_count": 585,
   "id": "e2d3e40b-c1fc-4122-b579-ac0fcee56f76",
   "metadata": {},
   "outputs": [],
   "source": [
    "data = np.array([[1,-1,2,1],[1,1,3,4],[-1,1,0,-1], [1,2,-4,-2],[3,-1,-1,0]])\n",
    "\n",
    "X = data[:,:-1]\n",
    "X = np.concatenate((X, np.ones((X.shape[0],1))), axis=1)\n",
    "y = data[:,-1]"
   ]
  },
  {
   "cell_type": "markdown",
   "id": "6c7c8649-e201-4790-b3cb-9ad57294341a",
   "metadata": {},
   "source": [
    "#### 5b. calc grad w/ W = [-1, 1, -1,b=-1]"
   ]
  },
  {
   "cell_type": "code",
   "execution_count": 586,
   "id": "6b5833a7-3757-4588-a611-25153e06ea58",
   "metadata": {},
   "outputs": [
    {
     "data": {
      "text/plain": [
       "array([ 4.4, -3.2, 11.2,  2. ])"
      ]
     },
     "execution_count": 586,
     "metadata": {},
     "output_type": "execute_result"
    }
   ],
   "source": [
    "W = np.array([-1, 1, -1,-1])[:,None]\n",
    "(1/X.shape[0]) * X.T @ (y[:,None]-(X @ W)).flatten()"
   ]
  },
  {
   "cell_type": "markdown",
   "id": "2ad9faf1-cddc-4060-9570-26637ac0ab22",
   "metadata": {},
   "source": [
    "### 5c. Analytical Soln"
   ]
  },
  {
   "cell_type": "code",
   "execution_count": 587,
   "id": "f8516de2-b81e-49a1-8d91-242a0d9499ee",
   "metadata": {},
   "outputs": [
    {
     "data": {
      "text/plain": [
       "array([ 1.,  1.,  1., -1.])"
      ]
     },
     "execution_count": 587,
     "metadata": {},
     "output_type": "execute_result"
    }
   ],
   "source": [
    "np.linalg.inv(X.T @ X) @ X.T @ y"
   ]
  },
  {
   "cell_type": "markdown",
   "id": "1b2d12d5-4d10-4be5-8793-7b55090472aa",
   "metadata": {},
   "source": [
    "### 5d. stochastic gradient descent"
   ]
  },
  {
   "cell_type": "code",
   "execution_count": 588,
   "id": "9534c6c9-45c3-4377-ae18-55f6fda38bd2",
   "metadata": {},
   "outputs": [],
   "source": [
    "W = np.zeros((X.shape[1]))\n",
    "epochs = 100\n",
    "train_losses = np.zeros((epochs))\n",
    "lr = 0.1\n",
    "# print('initial weights', W)\n",
    "for epoch in range(epochs): # amount of times we go through entire dataset \n",
    "    i = epoch % X.shape[0]\n",
    "    y_pred = X @ W \n",
    "    train_losses[epoch] = calc_loss(y,y_pred)\n",
    "    # single example gradient\n",
    "    dW = calc_dW(y[None,i],X[i] @ W, X[None,i]) \n",
    "    W -= lr * dW\n",
    "    # print('dW', dW)\n",
    "    # print('W', W)\n",
    "    # if epoch <= 4:\n",
    "    #     print(f'{epoch=}, {train_losses[epoch]=}')"
   ]
  },
  {
   "cell_type": "code",
   "execution_count": 589,
   "id": "80c48dbb-08ea-48c6-b88b-5c095f2dd623",
   "metadata": {},
   "outputs": [
    {
     "data": {
      "text/plain": [
       "[<matplotlib.lines.Line2D at 0x153657d90>]"
      ]
     },
     "execution_count": 589,
     "metadata": {},
     "output_type": "execute_result"
    },
    {
     "data": {
      "image/png": "[encoded data removed]",
      "text/plain": [
       "<Figure size 640x480 with 1 Axes>"
      ]
     },
     "metadata": {},
     "output_type": "display_data"
    }
   ],
   "source": [
    "plt.plot(train_losses)"
   ]
  },
  {
   "cell_type": "code",
   "execution_count": 590,
   "id": "422aa3fb-eb0a-4f83-868e-eaead84854e9",
   "metadata": {},
   "outputs": [
    {
     "data": {
      "text/plain": [
       "array([ 0.96282837,  0.97163623,  0.99421996, -0.92591869])"
      ]
     },
     "execution_count": 590,
     "metadata": {},
     "output_type": "execute_result"
    }
   ],
   "source": [
    "W"
   ]
  },
  {
   "cell_type": "code",
   "execution_count": null,
   "id": "1e6f574e-0c77-49ae-b9ec-8c5d532d926a",
   "metadata": {},
   "outputs": [],
   "source": []
  }
 ],
 "metadata": {
  "kernelspec": {
   "display_name": "opt",
   "language": "python",
   "name": "opt"
  },
  "language_info": {
   "codemirror_mode": {
    "name": "ipython",
    "version": 3
   },
   "file_extension": ".py",
   "mimetype": "text/x-python",
   "name": "python",
   "nbconvert_exporter": "python",
   "pygments_lexer": "ipython3",
   "version": "3.11.5"
  }
 },
 "nbformat": 4,
 "nbformat_minor": 5
}
