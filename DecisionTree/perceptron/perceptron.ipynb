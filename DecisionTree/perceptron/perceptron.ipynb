{
 "cells": [
  {
   "cell_type": "code",
   "execution_count": 502,
   "id": "cf2d3c17-8ad5-4b10-bb90-5dcc2fd940da",
   "metadata": {},
   "outputs": [],
   "source": [
    "import numpy as np\n",
    "np.random.seed(seed=1)\n",
    "import pandas as pd"
   ]
  },
  {
   "cell_type": "markdown",
   "id": "c0765128-61a5-4710-8491-19a28dc6d7ec",
   "metadata": {},
   "source": [
    "### Process bank-note dataset"
   ]
  },
  {
   "cell_type": "code",
   "execution_count": 503,
   "id": "cc8f5ee5-9f19-4353-83d8-7dbadb4be332",
   "metadata": {},
   "outputs": [],
   "source": [
    "train = pd.read_csv('../datasets/bank-note/train.csv', header=None).to_numpy()\n",
    "test = pd.read_csv('../datasets/bank-note/test.csv', header=None).to_numpy()"
   ]
  },
  {
   "cell_type": "code",
   "execution_count": 504,
   "id": "dc511e5b-359a-4bd1-803b-d529d016f5a9",
   "metadata": {},
   "outputs": [],
   "source": [
    "### last column is label (-1,1)\n",
    "\n",
    "x_train = train[:,:-1]\n",
    "y_train = train[:,-1]\n",
    "y_train = np.where(y_train == 0, -1,1)\n",
    "\n",
    "x_test = test[:,:-1]\n",
    "y_test = test[:,-1]\n",
    "y_test= np.where(y_test == 0, -1,1)\n",
    "\n",
    "# add column of ones to wrap in b\n",
    "x_train = np.concatenate((x_train, np.ones((x_train.shape[0],1))), axis=1)\n",
    "x_test = np.concatenate((x_test, np.ones((x_test.shape[0],1))), axis=1)\n",
    "\n",
    "shuffle = np.random.choice(len(x_train), len(x_train), replace=False)\n",
    "x_train = x_train[shuffle]\n",
    "y_train = y_train[shuffle]"
   ]
  },
  {
   "cell_type": "markdown",
   "id": "ac0da45e-cd83-45e9-b342-764a7e505394",
   "metadata": {},
   "source": [
    "### Standard Perceptron"
   ]
  },
  {
   "cell_type": "code",
   "execution_count": 505,
   "id": "743a4140-64ed-446b-a67d-b33f04aa1275",
   "metadata": {},
   "outputs": [],
   "source": [
    "### utilities\n",
    "calc_avg_error = lambda preds,labels: (preds != labels).mean()\n",
    "predict = lambda x,w: np.sign(x @ w)"
   ]
  },
  {
   "cell_type": "code",
   "execution_count": 506,
   "id": "b0a87e09-683c-4f24-97ef-d691a591da41",
   "metadata": {},
   "outputs": [],
   "source": [
    "# initialize w\n",
    "w_1 = np.zeros((x_train.shape[1],))"
   ]
  },
  {
   "cell_type": "code",
   "execution_count": 507,
   "id": "71b58732-309a-43e6-8953-e6add816b3ff",
   "metadata": {},
   "outputs": [],
   "source": [
    "lr = 0.001\n",
    "num_epochs = 10\n",
    "\n",
    "for epoch in range(num_epochs):\n",
    "    for i in range(x_train.shape[0]):\n",
    "        \n",
    "        pred = predict(x_train[i], w_1)\n",
    "        label = y_train[i]\n",
    "        if pred != label:\n",
    "            # if we guess negative but answer is positive, increase\n",
    "            if pred == -1:\n",
    "                w_1 += lr * x_train[i]\n",
    "            # if we guess positive but answer is negative, decrease\n",
    "            else:\n",
    "                w_1 -= lr * x_train[i]\n",
    "        \n"
   ]
  },
  {
   "cell_type": "code",
   "execution_count": 508,
   "id": "733f9d40-fdc5-4a4d-a64c-0567dfcdf342",
   "metadata": {},
   "outputs": [
    {
     "name": "stdout",
     "output_type": "stream",
     "text": [
      "STANDARD PERCEPTRON \n",
      " w_1=array([-0.06327136, -0.03982502, -0.04996398, -0.01082851,  0.048     ]),\n",
      " train_avg_error_1=0.020642201834862386,\n",
      " test_avg_error_1=0.02\n"
     ]
    }
   ],
   "source": [
    "train_preds_1 = predict(x_train,w_1)\n",
    "train_avg_error_1 = calc_avg_error(train_preds_1,y_train)\n",
    "\n",
    "test_preds_1 = predict(x_test,w_1)\n",
    "test_avg_error_1 = calc_avg_error(test_preds_1, y_test)\n",
    "\n",
    "print(f'STANDARD PERCEPTRON \\n {w_1=},\\n {train_avg_error_1=},\\n {test_avg_error_1=}')"
   ]
  },
  {
   "cell_type": "markdown",
   "id": "19fc11b8-36ce-4761-95f7-f049a9fc2ef0",
   "metadata": {},
   "source": [
    "### Voted Perceptron"
   ]
  },
  {
   "cell_type": "code",
   "execution_count": 509,
   "id": "788d7fb8-236a-4a37-bdcc-85359f53c854",
   "metadata": {},
   "outputs": [],
   "source": [
    "### utilities\n",
    "calc_avg_error = lambda preds,labels: (preds != labels).mean()\n",
    "predict = lambda x,w: np.sign(x @ w)"
   ]
  },
  {
   "cell_type": "code",
   "execution_count": 510,
   "id": "c8e51a73-250d-41bf-a9d6-48a7c8c61445",
   "metadata": {},
   "outputs": [],
   "source": [
    "# initialize w\n",
    "w_2 = np.zeros((x_train.shape[1],))"
   ]
  },
  {
   "cell_type": "code",
   "execution_count": 511,
   "id": "a136e647-42c0-4c38-86d8-d005d7a3a1db",
   "metadata": {},
   "outputs": [],
   "source": [
    "lr = 0.001\n",
    "num_epochs = 10\n",
    "\n",
    "## have a count of number of correct answers for a w, before it is wrong and thus is updated \n",
    "\n",
    "### count number of correct \n",
    "c=0\n",
    "keeps = []\n",
    "for epoch in range(num_epochs):\n",
    "    for i in range(x_train.shape[0]):\n",
    "        pred = predict(x_train[i], w_2)\n",
    "        label = y_train[i]\n",
    "        if pred != label:\n",
    "            keeps.append((w_2,c))\n",
    "            c = 0\n",
    "            \n",
    "            # if we guess negative but answer is positive, increase\n",
    "            if pred == -1:\n",
    "                w_2 = w_2 + (lr * x_train[i])\n",
    "            # if we guess positive but answer is negative, decrease\n",
    "            else:\n",
    "                w_2 = w_2 - (lr * x_train[i])\n",
    "        else:\n",
    "            c += 1\n",
    "\n",
    "def voted_predict(x,keeps):\n",
    "    sum = np.array([c * predict(x,w) for (w,c) in keeps]).sum(axis=0)\n",
    "    return np.sign(sum)"
   ]
  },
  {
   "cell_type": "code",
   "execution_count": 512,
   "id": "0bcbe461-c53e-4a14-a0cc-8dd9376da7cf",
   "metadata": {},
   "outputs": [
    {
     "name": "stdout",
     "output_type": "stream",
     "text": [
      "VOTED PERCEPTRON \n",
      " train_avg_error_2=0.01261467889908257,\n",
      " test_avg_error_2=0.014 \n",
      " KEEPS\n",
      "w=array([0., 0., 0., 0., 0.]), c=0\n",
      "w=array([-0.0020421 , -0.0012436 , -0.0042171 , -0.00090429, -0.001     ]), c=0\n",
      "w=array([-0.003279  , -0.0029342 , -0.0016991 , -0.00038793,  0.        ]), c=1\n",
      "w=array([-0.00231192,  0.0009084 , -0.0066305 , -0.00452023,  0.001     ]), c=1\n",
      "w=array([-0.00382992, -0.0047862 , -0.00672532, -0.00449349,  0.        ]), c=1\n",
      "w=array([-0.00448759, -0.007588  , -0.00301382, -0.0034961 ,  0.001     ]), c=4\n",
      "w=array([-0.00575429, -0.0047697 , -0.00543982, -0.0053823 ,  0.002     ]), c=0\n",
      "w=array([-0.00523629, -0.00451105, -0.00628067, -0.00442112,  0.003     ]), c=5\n",
      "w=array([-0.00683919, -0.00490008, -0.00466067, -0.00251082,  0.004     ]), c=24\n",
      "w=array([-0.00525819, -0.00403099, -0.00697447, -0.0016867 ,  0.005     ]), c=9\n"
     ]
    },
    {
     "data": {
      "text/plain": [
       "[None, None, None, None, None, None, None, None, None, None]"
      ]
     },
     "execution_count": 512,
     "metadata": {},
     "output_type": "execute_result"
    }
   ],
   "source": [
    "train_preds_2 = voted_predict(x_train,keeps)\n",
    "train_avg_error_2 = calc_avg_error(train_preds_2,y_train)\n",
    "\n",
    "test_preds_2 = voted_predict(x_test,keeps)\n",
    "test_avg_error_2 = calc_avg_error(test_preds_2, y_test)\n",
    "\n",
    "print(f'VOTED PERCEPTRON \\n {train_avg_error_2=},\\n {test_avg_error_2=} \\n KEEPS')\n",
    "[print(f'{w=}, {c=}') for (w,c) in keeps[:10]]"
   ]
  },
  {
   "cell_type": "markdown",
   "id": "6dee4117-3ac8-48d0-a973-47c86873a288",
   "metadata": {},
   "source": [
    "### Averaged Perceptron"
   ]
  },
  {
   "cell_type": "code",
   "execution_count": 517,
   "id": "9eafe97b-cbbf-48fd-a3ab-12b622a0d6c2",
   "metadata": {},
   "outputs": [],
   "source": [
    "### utilities\n",
    "calc_avg_error = lambda preds,labels: (preds != labels).mean()\n",
    "predict = lambda x,w: np.sign(x @ w)"
   ]
  },
  {
   "cell_type": "code",
   "execution_count": 526,
   "id": "00d311c8-f9d7-4e6f-a23a-f89fe2da8a0b",
   "metadata": {},
   "outputs": [],
   "source": [
    "# initialize w\n",
    "w_3 = np.zeros((x_train.shape[1],))"
   ]
  },
  {
   "cell_type": "code",
   "execution_count": 527,
   "id": "c4f1f6a2-8542-420d-b0d7-6564fbfa4afe",
   "metadata": {},
   "outputs": [],
   "source": [
    "lr = 0.001\n",
    "num_epochs = 10\n",
    "a = np.zeros_like(w_3)\n",
    "for epoch in range(num_epochs):\n",
    "    for i in range(x_train.shape[0]):\n",
    "        \n",
    "        pred = predict(x_train[i], w_3)\n",
    "        label = y_train[i]\n",
    "        if pred != label:\n",
    "            # if we guess negative but answer is positive, increase\n",
    "            if pred == -1:\n",
    "                w_3 += lr * x_train[i]\n",
    "            # if we guess positive but answer is negative, decrease\n",
    "            else:\n",
    "                w_3 -= lr * x_train[i]\n",
    "        a = a + w_3\n",
    "        \n",
    "a = a / (num_epochs * x_train.shape[0])"
   ]
  },
  {
   "cell_type": "code",
   "execution_count": 528,
   "id": "1009134f-bdfa-4594-b7cd-7e773c888d2e",
   "metadata": {},
   "outputs": [
    {
     "name": "stdout",
     "output_type": "stream",
     "text": [
      "AVERGAGED PERCEPTRON \n",
      " w_3=array([-0.06327136, -0.03982502, -0.04996398, -0.01082851,  0.048     ])\n",
      " a=array([-0.04762361, -0.0315385 , -0.03341357, -0.01014173,  0.03832936])\n",
      " train_avg_error_3=0.01261467889908257,\n",
      " test_avg_error_3=0.014\n"
     ]
    }
   ],
   "source": [
    "train_preds_3 = predict(x_train,a)\n",
    "train_avg_error_3 = calc_avg_error(train_preds_3,y_train)\n",
    "\n",
    "test_preds_3 = predict(x_test,a)\n",
    "test_avg_error_3 = calc_avg_error(test_preds_3, y_test)\n",
    "\n",
    "print(f'AVERGAGED PERCEPTRON \\n {w_3=}\\n {a=}\\n {train_avg_error_3=},\\n {test_avg_error_3=}')\n"
   ]
  },
  {
   "cell_type": "code",
   "execution_count": null,
   "id": "6b0ab04d-68f1-48b3-9bed-bafe9f801fe8",
   "metadata": {},
   "outputs": [],
   "source": []
  }
 ],
 "metadata": {
  "kernelspec": {
   "display_name": "opt",
   "language": "python",
   "name": "opt"
  },
  "language_info": {
   "codemirror_mode": {
    "name": "ipython",
    "version": 3
   },
   "file_extension": ".py",
   "mimetype": "text/x-python",
   "name": "python",
   "nbconvert_exporter": "python",
   "pygments_lexer": "ipython3",
   "version": "3.11.5"
  }
 },
 "nbformat": 4,
 "nbformat_minor": 5
}
