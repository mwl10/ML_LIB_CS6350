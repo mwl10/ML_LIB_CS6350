{
 "cells": [
  {
   "cell_type": "code",
   "execution_count": 204,
   "id": "cf2d3c17-8ad5-4b10-bb90-5dcc2fd940da",
   "metadata": {},
   "outputs": [],
   "source": [
    "import numpy as np\n",
    "import pandas as pd"
   ]
  },
  {
   "cell_type": "markdown",
   "id": "c0765128-61a5-4710-8491-19a28dc6d7ec",
   "metadata": {},
   "source": [
    "### Process bank-note dataset"
   ]
  },
  {
   "cell_type": "code",
   "execution_count": 205,
   "id": "cc8f5ee5-9f19-4353-83d8-7dbadb4be332",
   "metadata": {},
   "outputs": [],
   "source": [
    "train = pd.read_csv('../datasets/bank-note/train.csv', header=None).to_numpy()\n",
    "test = pd.read_csv('../datasets/bank-note/test.csv', header=None).to_numpy()"
   ]
  },
  {
   "cell_type": "code",
   "execution_count": 206,
   "id": "dc511e5b-359a-4bd1-803b-d529d016f5a9",
   "metadata": {},
   "outputs": [],
   "source": [
    "### last column is label (-1,1)\n",
    "\n",
    "x_train = train[:,:-1]\n",
    "y_train = train[:,-1]\n",
    "x_test = test[:,:-1]\n",
    "y_test = test[:,-1]\n",
    "\n",
    "# add column of ones to wrap in b\n",
    "x_train = np.concatenate((x_train, np.ones((x_train.shape[0],1))), axis=1)\n",
    "x_test = np.concatenate((x_test, np.ones((x_test.shape[0],1))), axis=1)\n",
    "\n",
    "shuffle = np.random.choice(len(x_train), len(x_train), replace=False)\n",
    "x_train = x_train[shuffle]\n",
    "y_train = y_train[shuffle]"
   ]
  },
  {
   "cell_type": "markdown",
   "id": "ac0da45e-cd83-45e9-b342-764a7e505394",
   "metadata": {},
   "source": [
    "### Standard Perceptron"
   ]
  },
  {
   "cell_type": "code",
   "execution_count": 207,
   "id": "743a4140-64ed-446b-a67d-b33f04aa1275",
   "metadata": {},
   "outputs": [],
   "source": [
    "calc_avg_error = lambda preds,labels: (preds != labels).mean()\n",
    "predict = lambda x,w: np.sign(x @ w)"
   ]
  },
  {
   "cell_type": "code",
   "execution_count": 208,
   "id": "b0a87e09-683c-4f24-97ef-d691a591da41",
   "metadata": {},
   "outputs": [],
   "source": [
    "# initialize w\n",
    "w = np.zeros((x_train.shape[1],))"
   ]
  },
  {
   "cell_type": "code",
   "execution_count": 209,
   "id": "71b58732-309a-43e6-8953-e6add816b3ff",
   "metadata": {},
   "outputs": [],
   "source": [
    "lr = 0.001\n",
    "num_epochs = 10\n",
    "\n",
    "for epoch in range(num_epochs):\n",
    "    for i in range(x_train.shape[0]):\n",
    "        \n",
    "        pred = predict(x_train[i], w)\n",
    "        label = y_train[i]\n",
    "        if pred != label:\n",
    "            # if we guess negative but answer is positive, increase\n",
    "            if pred == -1:\n",
    "                w += lr * x_train[i]\n",
    "            # if we guess positive but answer is negative, decrease\n",
    "            else:\n",
    "                w -= lr * x_train[i]\n",
    "        \n"
   ]
  },
  {
   "cell_type": "code",
   "execution_count": 210,
   "id": "733f9d40-fdc5-4a4d-a64c-0567dfcdf342",
   "metadata": {},
   "outputs": [
    {
     "name": "stdout",
     "output_type": "stream",
     "text": [
      "STANDARD PERCEPTRON \n",
      " w=array([-0.0022383 , -0.00099932, -0.00539237, -0.000971  ,  0.053     ]),\n",
      " train_avg_error=0.5676605504587156,\n",
      " test_avg_error=0.574\n"
     ]
    }
   ],
   "source": [
    "train_preds = predict(x_train,w)\n",
    "train_avg_error = calc_avg_error(train_preds,y_train)\n",
    "\n",
    "test_preds = predict(x_test,w)\n",
    "test_avg_error = calc_avg_error(test_preds, y_test)\n",
    "\n",
    "print(f'STANDARD PERCEPTRON \\n {w=},\\n {train_avg_error=},\\n {test_avg_error=}')"
   ]
  },
  {
   "cell_type": "markdown",
   "id": "19fc11b8-36ce-4761-95f7-f049a9fc2ef0",
   "metadata": {},
   "source": [
    "### Voted Perceptron"
   ]
  },
  {
   "cell_type": "code",
   "execution_count": 211,
   "id": "c8e51a73-250d-41bf-a9d6-48a7c8c61445",
   "metadata": {},
   "outputs": [],
   "source": [
    "# initialize w\n",
    "w = np.zeros((x_train.shape[1],))"
   ]
  },
  {
   "cell_type": "code",
   "execution_count": 212,
   "id": "a136e647-42c0-4c38-86d8-d005d7a3a1db",
   "metadata": {},
   "outputs": [],
   "source": [
    "lr = 0.001\n",
    "num_epochs = 10\n",
    "\n",
    "## have a count of number of correct answers for a w, before it is wrong and thus is updated \n",
    "\n",
    "### count number of correct \n",
    "c=0\n",
    "keeps = []\n",
    "for epoch in range(num_epochs):\n",
    "    for i in range(x_train.shape[0]):\n",
    "        \n",
    "        pred = predict(x_train[i], w)\n",
    "        label = y_train[i]\n",
    "        if pred != label:\n",
    "            keeps.append((w,c))\n",
    "            c = 0\n",
    "            \n",
    "            # if we guess negative but answer is positive, increase\n",
    "            if pred == -1:\n",
    "                w += lr * x_train[i]\n",
    "            # if we guess positive but answer is negative, decrease\n",
    "            else:\n",
    "                w -= lr * x_train[i]\n",
    "            \n",
    "        else:\n",
    "            c += 1\n",
    "\n",
    "\n",
    "def voted_predict(x,keeps):\n",
    "    sum = np.array([c * predict(x,w) for (w,c) in keeps]).sum(axis=0)\n",
    "    return np.sign(sum)\n"
   ]
  },
  {
   "cell_type": "code",
   "execution_count": 213,
   "id": "0bcbe461-c53e-4a14-a0cc-8dd9376da7cf",
   "metadata": {},
   "outputs": [
    {
     "name": "stdout",
     "output_type": "stream",
     "text": [
      "VOTED PERCEPTRON \n",
      " train_avg_error=0.5676605504587156,\n",
      " test_avg_error=0.574 \n",
      " KEEPS\n",
      "w=array([-0.0022383 , -0.00099932, -0.00539237, -0.000971  ,  0.053     ]), c=4\n",
      "w=array([-0.0022383 , -0.00099932, -0.00539237, -0.000971  ,  0.053     ]), c=0\n",
      "w=array([-0.0022383 , -0.00099932, -0.00539237, -0.000971  ,  0.053     ]), c=0\n",
      "w=array([-0.0022383 , -0.00099932, -0.00539237, -0.000971  ,  0.053     ]), c=0\n",
      "w=array([-0.0022383 , -0.00099932, -0.00539237, -0.000971  ,  0.053     ]), c=0\n",
      "w=array([-0.0022383 , -0.00099932, -0.00539237, -0.000971  ,  0.053     ]), c=0\n",
      "w=array([-0.0022383 , -0.00099932, -0.00539237, -0.000971  ,  0.053     ]), c=1\n",
      "w=array([-0.0022383 , -0.00099932, -0.00539237, -0.000971  ,  0.053     ]), c=1\n",
      "w=array([-0.0022383 , -0.00099932, -0.00539237, -0.000971  ,  0.053     ]), c=0\n",
      "w=array([-0.0022383 , -0.00099932, -0.00539237, -0.000971  ,  0.053     ]), c=1\n"
     ]
    },
    {
     "data": {
      "text/plain": [
       "[None, None, None, None, None, None, None, None, None, None]"
      ]
     },
     "execution_count": 213,
     "metadata": {},
     "output_type": "execute_result"
    }
   ],
   "source": [
    "train_preds = voted_predict(x_train,keeps)\n",
    "train_avg_error = calc_avg_error(train_preds,y_train)\n",
    "\n",
    "test_preds = voted_predict(x_test,keeps)\n",
    "test_avg_error = calc_avg_error(test_preds, y_test)\n",
    "\n",
    "print(f'VOTED PERCEPTRON \\n {train_avg_error=},\\n {test_avg_error=} \\n KEEPS')\n",
    "[print(f'{w=}, {c=}') for (w,c) in keeps[:10]]"
   ]
  },
  {
   "cell_type": "markdown",
   "id": "6dee4117-3ac8-48d0-a973-47c86873a288",
   "metadata": {},
   "source": [
    "### Averaged Perceptron"
   ]
  },
  {
   "cell_type": "code",
   "execution_count": 214,
   "id": "00d311c8-f9d7-4e6f-a23a-f89fe2da8a0b",
   "metadata": {},
   "outputs": [],
   "source": [
    "# initialize w\n",
    "w = np.zeros((x_train.shape[1],))"
   ]
  },
  {
   "cell_type": "code",
   "execution_count": 215,
   "id": "c4f1f6a2-8542-420d-b0d7-6564fbfa4afe",
   "metadata": {},
   "outputs": [],
   "source": [
    "lr = 0.001\n",
    "num_epochs = 10\n",
    "a = np.zeros_like(w)\n",
    "for epoch in range(num_epochs):\n",
    "    for i in range(x_train.shape[0]):\n",
    "        \n",
    "        pred = predict(x_train[i], w)\n",
    "        label = y_train[i]\n",
    "        if pred != label:\n",
    "            # if we guess negative but answer is positive, increase\n",
    "            if pred == -1:\n",
    "                w += lr * x_train[i]\n",
    "            # if we guess positive but answer is negative, decrease\n",
    "            else:\n",
    "                w -= lr * x_train[i]\n",
    "        a+=w\n",
    "        \n",
    "a = a / (num_epochs * x_train.shape[0])"
   ]
  },
  {
   "cell_type": "code",
   "execution_count": 216,
   "id": "1009134f-bdfa-4594-b7cd-7e773c888d2e",
   "metadata": {},
   "outputs": [
    {
     "name": "stdout",
     "output_type": "stream",
     "text": [
      "AVERGAGED PERCEPTRON \n",
      " train_avg_error=0.5538990825688074,\n",
      " test_avg_error=0.558 \n",
      " KEEPS\n"
     ]
    }
   ],
   "source": [
    "train_preds = predict(x_train,a)\n",
    "train_avg_error = calc_avg_error(train_preds,y_train)\n",
    "\n",
    "test_preds = predict(x_test,a)\n",
    "test_avg_error = calc_avg_error(test_preds, y_test)\n",
    "\n",
    "print(f'AVERGAGED PERCEPTRON \\n {train_avg_error=},\\n {test_avg_error=} \\n KEEPS')\n",
    "\n"
   ]
  },
  {
   "cell_type": "code",
   "execution_count": null,
   "id": "75f53f1d-fd15-46e7-899d-bd34cf9101f7",
   "metadata": {},
   "outputs": [],
   "source": []
  },
  {
   "cell_type": "code",
   "execution_count": null,
   "id": "7a6ab373-4382-4c2d-91dc-aeba6b5ec18d",
   "metadata": {},
   "outputs": [],
   "source": []
  }
 ],
 "metadata": {
  "kernelspec": {
   "display_name": "opt",
   "language": "python",
   "name": "opt"
  },
  "language_info": {
   "codemirror_mode": {
    "name": "ipython",
    "version": 3
   },
   "file_extension": ".py",
   "mimetype": "text/x-python",
   "name": "python",
   "nbconvert_exporter": "python",
   "pygments_lexer": "ipython3",
   "version": "3.11.5"
  }
 },
 "nbformat": 4,
 "nbformat_minor": 5
}
