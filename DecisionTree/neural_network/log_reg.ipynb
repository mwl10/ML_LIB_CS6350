{
 "cells": [
  {
   "cell_type": "code",
   "execution_count": 152,
   "metadata": {},
   "outputs": [],
   "source": [
    "from jax import numpy as jnp\n",
    "from jax import random, jit\n",
    "import pandas as pd\n",
    "import numpy as np\n",
    "import matplotlib.pyplot as plt\n"
   ]
  },
  {
   "cell_type": "code",
   "execution_count": 153,
   "metadata": {},
   "outputs": [
    {
     "name": "stdout",
     "output_type": "stream",
     "text": [
      "The autoreload extension is already loaded. To reload it, use:\n",
      "  %reload_ext autoreload\n"
     ]
    }
   ],
   "source": [
    "%load_ext autoreload\n",
    "%autoreload"
   ]
  },
  {
   "cell_type": "code",
   "execution_count": 154,
   "metadata": {},
   "outputs": [],
   "source": [
    "train = pd.read_csv('../datasets/bank-note/train.csv', header=None).to_numpy()\n",
    "test = pd.read_csv('../datasets/bank-note/test.csv', header=None).to_numpy()\n",
    "### last column is label (-1,1)\n",
    "\n",
    "x_train = train[:,:-1]\n",
    "y_train = train[:,-1:]\n",
    "y_train = np.where(y_train == 0, -1,1)\n",
    "\n",
    "x_test = test[:,:-1]\n",
    "y_test = test[:,-1:]\n",
    "y_test= np.where(y_test == 0, -1,1)\n",
    "\n",
    "# add column of ones to wrap in b\n",
    "x_train = np.concatenate((x_train, np.ones((x_train.shape[0],1))), axis=1)\n",
    "x_test = np.concatenate((x_test, np.ones((x_test.shape[0],1))), axis=1)\n",
    "\n",
    "shuffle = np.random.choice(len(x_train), len(x_train), replace=False)\n",
    "x_train = x_train[shuffle]\n",
    "y_train = y_train[shuffle]\n"
   ]
  },
  {
   "cell_type": "markdown",
   "metadata": {},
   "source": [
    "### Logistic Reg model functions that don't change for maximum-a-posteriori (map) vs. maximum likelihood (ml)"
   ]
  },
  {
   "cell_type": "code",
   "execution_count": 237,
   "metadata": {},
   "outputs": [],
   "source": [
    "def sigmoid(Z):\n",
    "    A = 1/(1+jnp.exp(-Z))\n",
    "    cache = Z ## keep for backprop \n",
    "    return A, cache\n",
    "\n",
    "def sigmoid_backprop(dL_dA, cache):\n",
    "    Z = cache\n",
    "    s = 1/(1+jnp.exp(-Z))\n",
    "    dL_dZ = dL_dA * s * (1-s)\n",
    "    return dL_dZ\n",
    "\n",
    "def model_forward(X, parameters):\n",
    "    W, b = parameters['W'], parameters['b']\n",
    "    Z = X @ W.T + b\n",
    "    cache =(X,Z)\n",
    "    preds = 1/(1+jnp.exp(-Z)) # sigmoid\n",
    "    return preds, cache\n",
    "\n",
    "def init_params(n_x):\n",
    "    # n_x -- num input features\n",
    "    return {\n",
    "            \"W\": jnp.zeros((1,n_x)),\n",
    "            \"b\": jnp.zeros((1,)),\n",
    "            }\n",
    "\n",
    "def update_params(params, grads, lr):\n",
    "    p = params.copy()\n",
    "    p['W'] = p['W'] - lr * grads['dL_dW']\n",
    "    p['b'] = p['b'] - lr * grads['dL_db']                                                                       \n",
    "    return p\n",
    "\n",
    "def compute_acc(X, y, params):\n",
    "    preds,_ = model_forward(X, params)\n",
    "    return (np.sign(preds) == y).mean()\n",
    "\n",
    "                     "
   ]
  },
  {
   "cell_type": "markdown",
   "metadata": {},
   "source": [
    "### Maximum Likelihood "
   ]
  },
  {
   "cell_type": "code",
   "execution_count": 234,
   "metadata": {},
   "outputs": [],
   "source": [
    "def model_backprop_ml(preds, y, cache):\n",
    "    grads = {}\n",
    "    dL_dA = - ((y / preds) - ((1 - y)/ (1 - preds)))\n",
    "    X,Z = cache \n",
    "    dL_dZ = sigmoid_backprop(dL_dA, Z)\n",
    "    m = X.shape[1]\n",
    "    grads[\"dL_dW\"] = (dL_dZ.T @ X) / m\n",
    "    grads[\"dL_db\"] = dL_dZ.sum(axis=0, keepdims=True) / m\n",
    "    return grads\n",
    "\n",
    "ml_objective = lambda y, preds: ((y.T @ np.log(preds)) + ((1-y).T @  np.log(1-preds))) * (-1/len(y))\n",
    "\n",
    "X = x_train\n",
    "y = y_train\n",
    "\n",
    "# @jit\n",
    "def update_ml(params):\n",
    "    preds, cache = model_forward(X, params)\n",
    "    grads = model_backprop_ml(preds, y, cache)\n",
    "    params = update_params(params, grads, lr)\n",
    "    return params, preds\n"
   ]
  },
  {
   "cell_type": "markdown",
   "metadata": {},
   "source": [
    "#### training"
   ]
  },
  {
   "cell_type": "code",
   "execution_count": null,
   "metadata": {},
   "outputs": [],
   "source": [
    "lr = 0.001\n",
    "num_epochs = 1000\n",
    "print_at = 10\n",
    "params = init_params(X.shape[1])\n",
    "losses = np.zeros((num_epochs,))\n",
    "\n",
    "for i in range(num_epochs):\n",
    "    ### should be able to jit update\n",
    "    params, preds = update_ml(params)\n",
    "    loss = bce_loss(preds, y)\n",
    "    if i % print_at == 0:\n",
    "        # print(f'{loss=}')\n",
    "        acc = compute_acc(X,y,params)\n",
    "        print(acc)\n",
    "    losses[i] = loss"
   ]
  },
  {
   "cell_type": "markdown",
   "metadata": {},
   "source": [
    "### Maximum-a-posteriori (map)"
   ]
  },
  {
   "cell_type": "code",
   "execution_count": null,
   "metadata": {},
   "outputs": [],
   "source": [
    "### MAP\n",
    "def model_backprop_map(preds, y, cache):\n",
    "    grads = {}\n",
    "    dL_dA = - ((y / preds) - ((1 - y)/ (1 - preds)))\n",
    "    X,Z,W = cache \n",
    "    dL_dZ = sigmoid_backprop(dL_dA, Z)\n",
    "    m = X.shape[1]\n",
    "    grads[\"dL_dW\"] = (dL_dZ.T @ X) / m + (lambd / m)*W ### from regularization term in objective\n",
    "    grads[\"dL_db\"] = dL_dZ.sum(axis=0, keepdims=True) / m\n",
    "    return grads\n",
    "\n",
    "\n",
    "def map_objective(y,preds,W):\n",
    "    bce_loss = bce_loss(y,preds)\n",
    "    l2_reg_loss = (W ** 2).sum() * 1/len(y) * (lambd / 2)\n",
    "    return bce_loss + l2_reg_loss\n",
    "\n",
    "\n",
    "# @jit\n",
    "def update_map(params):\n",
    "    preds, cache = model_forward(X, params)\n",
    "    cache = (*cache, params['W']) ### need weights for gradients\n",
    "    grads = model_backprop_map(preds, y, cache)\n",
    "    params = update_params(params, grads, lr)\n",
    "    return params, preds\n"
   ]
  },
  {
   "cell_type": "markdown",
   "metadata": {},
   "source": [
    "#### training w/ different variances on gaussian prior over weights "
   ]
  },
  {
   "cell_type": "code",
   "execution_count": 231,
   "metadata": {},
   "outputs": [
    {
     "data": {
      "text/plain": [
       "0.4461009174311927"
      ]
     },
     "execution_count": 231,
     "metadata": {},
     "output_type": "execute_result"
    }
   ],
   "source": [
    "lr = 0.001\n",
    "num_epochs = 1000\n",
    "print_at = 10\n",
    "params = init_params(X.shape[1])\n",
    "losses = np.zeros((num_epochs,))\n",
    "\n",
    "variances= jnp.array([0.01, 0.1, 0.5, 1, 3, 5, 10, 100])\n",
    "lambds = 1 / variances\n",
    "lambd = 1 / 0.01\n",
    "\n",
    "\n",
    "for i in range(num_epochs):\n",
    "    params, preds = update_map(params)\n",
    "    loss = bce_loss(preds, y)\n",
    "    if i % print_at == 0:\n",
    "        print(f'{loss=}')\n",
    "        acc = compute_acc(X,y,params)\n",
    "        print(acc)\n",
    "    losses[i] = loss"
   ]
  }
 ],
 "metadata": {
  "kernelspec": {
   "display_name": "opt",
   "language": "python",
   "name": "python3"
  },
  "language_info": {
   "codemirror_mode": {
    "name": "ipython",
    "version": 3
   },
   "file_extension": ".py",
   "mimetype": "text/x-python",
   "name": "python",
   "nbconvert_exporter": "python",
   "pygments_lexer": "ipython3",
   "version": "3.11.5"
  }
 },
 "nbformat": 4,
 "nbformat_minor": 2
}
