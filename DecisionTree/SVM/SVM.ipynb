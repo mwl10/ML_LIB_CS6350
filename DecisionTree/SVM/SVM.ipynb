{
 "cells": [
  {
   "cell_type": "code",
   "execution_count": 1,
   "id": "b066fbbe-eb42-41ab-af7e-e7016c7f1337",
   "metadata": {},
   "outputs": [],
   "source": [
    "import numpy as np\n",
    "import matplotlib.pyplot as plt\n",
    "import pandas as pd\n",
    "np.random.seed(42)"
   ]
  },
  {
   "cell_type": "code",
   "execution_count": 2,
   "id": "ccab6421-5e9a-4389-8e7c-5e4b6386c131",
   "metadata": {},
   "outputs": [],
   "source": [
    "%load_ext autoreload\n",
    "%autoreload"
   ]
  },
  {
   "cell_type": "markdown",
   "id": "279980a3-a5eb-4843-88bf-5d0c547aa054",
   "metadata": {},
   "source": [
    "### Loading Bank Note Dataset"
   ]
  },
  {
   "cell_type": "code",
   "execution_count": 3,
   "id": "2b74e3fd-c9d7-4e76-8c9c-ba13b37161c8",
   "metadata": {},
   "outputs": [],
   "source": [
    "train = pd.read_csv('../datasets/bank-note/train.csv', header=None).to_numpy()\n",
    "test = pd.read_csv('../datasets/bank-note/test.csv', header=None).to_numpy()"
   ]
  },
  {
   "cell_type": "code",
   "execution_count": 145,
   "id": "7c91c8e6-2f24-4b8f-89a5-6a1bc568eb85",
   "metadata": {},
   "outputs": [],
   "source": [
    "### last column is label (-1,1)\n",
    "\n",
    "x_train = train[:,:-1]\n",
    "y_train = train[:,-1]\n",
    "y_train = np.where(y_train == 0, -1,1)\n",
    "\n",
    "x_test = test[:,:-1]\n",
    "y_test = test[:,-1]\n",
    "y_test= np.where(y_test == 0, -1,1)\n",
    "\n",
    "# add column of ones to wrap in b\n",
    "x_train = np.concatenate((x_train, np.ones((x_train.shape[0],1))), axis=1)\n",
    "x_test = np.concatenate((x_test, np.ones((x_test.shape[0],1))), axis=1)\n",
    "\n",
    "shuffle = np.random.choice(len(x_train), len(x_train), replace=False)\n",
    "x_train = x_train[shuffle]\n",
    "y_train = y_train[shuffle]"
   ]
  },
  {
   "cell_type": "markdown",
   "id": "e1347226-902e-47b4-90cc-dec20719e481",
   "metadata": {},
   "source": [
    "### Problem 2 SVM Primal"
   ]
  },
  {
   "cell_type": "code",
   "execution_count": 149,
   "id": "1e4111c6-ac13-40f2-a91f-11e9fb234a09",
   "metadata": {},
   "outputs": [
    {
     "name": "stdout",
     "output_type": "stream",
     "text": [
      "Beginning SVM primal domain, stochastic sub-gradient descent\n"
     ]
    }
   ],
   "source": [
    "### utilities\n",
    "calc_avg_error = lambda preds,labels: (preds != labels).mean()\n",
    "predict = lambda x,w: np.sign(x @ w)\n",
    "\n",
    "def calc_avg_j(w_0,w,C,N,X,labels):\n",
    "    preds = X @ w\n",
    "    margins = labels*preds\n",
    "    max_terms = np.max((np.zeros((len(margins))), 1-margins))\n",
    "    j = 0.5*(w_0 @ w_0.T) + (C * N*max_terms)\n",
    "    return j.mean()\n",
    "    \n",
    "print('Beginning SVM primal domain, stochastic sub-gradient descent')"
   ]
  },
  {
   "cell_type": "code",
   "execution_count": 150,
   "id": "af37a637-edb8-4dd1-850b-edf580d1026a",
   "metadata": {},
   "outputs": [],
   "source": [
    "update_lr1 = lambda lr, t, a: lr / (1 + (lr/a)*t)\n",
    "update_lr2 = lambda lr, t: lr / (1 + t)"
   ]
  },
  {
   "cell_type": "markdown",
   "id": "9249f89a-74b5-423a-8f99-097d100b5aa4",
   "metadata": {},
   "source": [
    "### PROBLEM 2A, LR Schedule 1"
   ]
  },
  {
   "cell_type": "code",
   "execution_count": 151,
   "id": "fcf45864-37df-4a22-86ac-6997e47dffcd",
   "metadata": {},
   "outputs": [
    {
     "name": "stdout",
     "output_type": "stream",
     "text": [
      "with C=0.1145475372279496 and learning rate schedule 1:\n",
      "final train loss = 362.37574396216894\n",
      "final test loss = 424.66709529353284\n",
      "train_acc=0.9908256880733946, test_acc=0.992\n",
      "w=array([-8.50099582, -4.43401111, -5.68458722, -0.79338309,  7.2484419 ])\n",
      "with C=0.572737686139748 and learning rate schedule 1:\n",
      "final train loss = 901.1229733549652\n",
      "final test loss = 901.1049924790761\n",
      "train_acc=0.9919724770642202, test_acc=0.992\n",
      "w=array([-1.12366863, -0.78752587, -0.88482591, -0.11464667,  1.43884356])\n",
      "with C=0.8018327605956472 and learning rate schedule 1:\n",
      "final train loss = 1234.9060764789072\n",
      "final test loss = 1234.8824950087192\n",
      "train_acc=0.9919724770642202, test_acc=0.992\n",
      "w=array([-1.05180177, -0.74524569, -0.83057191, -0.10861972,  1.33966403])\n"
     ]
    }
   ],
   "source": [
    "lr = 0.001\n",
    "a = 0.5 ## need to tune this probs\n",
    "num_epochs = 5000\n",
    "Cs = [100/873, 500 / 873, 700 / 873]\n",
    "N = len(x_train)\n",
    "np.random.seed(42)\n",
    "train_losses = np.zeros((len(Cs), num_epochs))\n",
    "test_losses = np.zeros((len(Cs), num_epochs))\n",
    "\n",
    "for c_i, C in enumerate(Cs):\n",
    "    # initialize w\n",
    "    w_0 = np.zeros((x_train.shape[1]-1,))\n",
    "    w = np.concatenate((w_0,[0]))\n",
    "    for epoch in range(num_epochs):\n",
    "        ## shuffle at each epoch\n",
    "        shuffle = np.random.choice(len(x_train), len(x_train), replace=False)\n",
    "        x_train = x_train[shuffle]\n",
    "        y_train = y_train[shuffle]\n",
    "        \n",
    "        for i in range(x_train.shape[0]):\n",
    "            ## shuffle at each epoch\n",
    "            label = y_train[i]\n",
    "            pred = x_train[i] @ w\n",
    "            margin = label*pred\n",
    "            max_term = np.max((0.0, 1-margin))\n",
    "            if max_term: ### if margin is smaller than 1\n",
    "                grad = np.concatenate((w_0,[0])) - (C*N*label*x_train[i])\n",
    "                w = w - lr * grad\n",
    "            else: ### if margin greater or equal to 1\n",
    "                w_0 = w_0 - (lr * w_0)\n",
    "    \n",
    "        train_losses[c_i,epoch] = calc_avg_j(w_0,w,C,N,x_train,y_train)\n",
    "        test_losses[c_i, epoch] = calc_avg_j(w_0,w,C,N,x_test,y_test)\n",
    "        lr = update_lr1(lr, epoch, a)\n",
    "    print(f'with {C=} and learning rate schedule 1:')\n",
    "    print(f'final train loss = {train_losses[c_i,-1]}')\n",
    "    print(f'final test loss = {test_losses[c_i,-1]}')\n",
    "    train_acc = (predict(x_train,w) == y_train).mean()\n",
    "    test_acc = (predict(x_test,w) == y_test).mean()\n",
    "    print(f'{train_acc=}, {test_acc=}')\n",
    "    print(f'{w=}')\n"
   ]
  },
  {
   "cell_type": "code",
   "execution_count": 98,
   "id": "4dd751d9-4fb9-4850-bbd7-b292c86c2257",
   "metadata": {},
   "outputs": [
    {
     "data": {
      "text/plain": [
       "Text(0.5, 0, 'epoch')"
      ]
     },
     "execution_count": 98,
     "metadata": {},
     "output_type": "execute_result"
    },
    {
     "data": {
      "image/png": "[encoded data removed]",
      "text/plain": [
       "<Figure size 640x480 with 3 Axes>"
      ]
     },
     "metadata": {},
     "output_type": "display_data"
    }
   ],
   "source": [
    "fig, ax = plt.subplots(len(Cs))\n",
    "for i in range(len(Cs)):\n",
    "    C = Cs[i]\n",
    "    ax[i].plot(train_losses[i])\n",
    "    ax[i].set_ylabel(f'{C=:.2f}',labelpad=0.4)\n",
    "fig.suptitle('Primal SVM Training w/ Stochastic SubGD & LR 2')\n",
    "fig.supylabel('LOSS')\n",
    "ax[-1].set_xlabel('epoch')"
   ]
  },
  {
   "cell_type": "markdown",
   "id": "a5872d10-0a76-4542-ad22-7ee73231ee7c",
   "metadata": {},
   "source": [
    "### PROBLEM 2B, LR Schedule 2"
   ]
  },
  {
   "cell_type": "code",
   "execution_count": 154,
   "id": "834f7817-5430-45b8-969e-0a93f3104ae9",
   "metadata": {},
   "outputs": [
    {
     "name": "stdout",
     "output_type": "stream",
     "text": [
      "with C=0.1145475372279496 and learning rate schedule 2:\n",
      "final train loss = 260.7385603679266\n",
      "final test loss = 260.72392616141406\n",
      "train_acc=0.9896788990825688, test_acc=0.99\n",
      "w=array([-4.33918389, -2.83398892, -3.30102213, -0.81671859,  4.01040092])\n",
      "with C=0.572737686139748 and learning rate schedule 2:\n",
      "final train loss = 499.42726231386024\n",
      "final test loss = 499.42726231386024\n",
      "train_acc=0.0, test_acc=0.0\n",
      "w=array([0., 0., 0., 0., 0.])\n",
      "with C=0.8018327605956472 and learning rate schedule 2:\n",
      "final train loss = 699.1981672394044\n",
      "final test loss = 699.1981672394044\n",
      "train_acc=0.0, test_acc=0.0\n",
      "w=array([0., 0., 0., 0., 0.])\n"
     ]
    }
   ],
   "source": [
    "lr = 0.001\n",
    "a = 0.5 ## need to tune this probs\n",
    "num_epochs = 5000\n",
    "Cs = [100/873, 500 / 873, 700 / 873]\n",
    "N = len(x_train)\n",
    "np.random.seed(42)\n",
    "train_losses = np.zeros((len(Cs), num_epochs))\n",
    "test_losses = np.zeros((len(Cs), num_epochs))\n",
    "\n",
    "for c_i, C in enumerate(Cs):\n",
    "    # initialize w\n",
    "    w_0 = np.zeros((x_train.shape[1]-1,))\n",
    "    w = np.concatenate((w_0,[0]))\n",
    "    for epoch in range(num_epochs):\n",
    "        ## shuffle at each epoch\n",
    "        shuffle = np.random.choice(len(x_train), len(x_train), replace=False)\n",
    "        x_train = x_train[shuffle]\n",
    "        y_train = y_train[shuffle]\n",
    "        \n",
    "        for i in range(x_train.shape[0]):\n",
    "            ## shuffle at each epoch\n",
    "            label = y_train[i]\n",
    "            pred = x_train[i] @ w\n",
    "            margin = label*pred\n",
    "            max_term = np.max((0.0, 1-margin))\n",
    "            if max_term: ### if margin is smaller than 1\n",
    "                grad = np.concatenate((w_0,[0])) - (C*N*label*x_train[i])\n",
    "                w = w - lr * grad\n",
    "            else: ### if margin greater or equal to 1\n",
    "                w_0 = w_0 - (lr * w_0)\n",
    "    \n",
    "        train_losses[c_i,epoch] = calc_avg_j(w_0,w,C,N,x_train,y_train)\n",
    "        test_losses[c_i, epoch] = calc_avg_j(w_0,w,C,N,x_test,y_test)\n",
    "        lr = update_lr2(lr, epoch)\n",
    "    print(f'with {C=} and learning rate schedule 2:')\n",
    "    print(f'final train loss = {train_losses[c_i,-1]}')\n",
    "    print(f'final test loss = {test_losses[c_i,-1]}')\n",
    "    train_acc = (predict(x_train,w) == y_train).mean()\n",
    "    test_acc = (predict(x_test,w) == y_test).mean()\n",
    "    print(f'{train_acc=}, {test_acc=}')\n",
    "    print(f'{w=}')"
   ]
  },
  {
   "cell_type": "code",
   "execution_count": 97,
   "id": "528cb25e-8a62-48b0-81d7-6b87b20ddbd0",
   "metadata": {},
   "outputs": [
    {
     "data": {
      "text/plain": [
       "Text(0.5, 0, 'epoch')"
      ]
     },
     "execution_count": 97,
     "metadata": {},
     "output_type": "execute_result"
    },
    {
     "data": {
      "image/png": "[encoded data removed]",
      "text/plain": [
       "<Figure size 640x480 with 3 Axes>"
      ]
     },
     "metadata": {},
     "output_type": "display_data"
    }
   ],
   "source": [
    "fig, ax = plt.subplots(len(Cs))\n",
    "for i in range(len(Cs)):\n",
    "    C = Cs[i]\n",
    "    ax[i].plot(train_losses[i])\n",
    "    ax[i].set_ylabel(f'{C=:.2f}',labelpad=0.4)\n",
    "fig.suptitle('Primal SVM Training w/ Stochastic SubGD & LR 2')\n",
    "fig.supylabel('LOSS')\n",
    "ax[-1].set_xlabel('epoch')"
   ]
  },
  {
   "cell_type": "markdown",
   "id": "b94dd221-653b-4dbf-a5ae-20335ed0c422",
   "metadata": {},
   "source": [
    "### Homework problem 5"
   ]
  },
  {
   "cell_type": "code",
   "execution_count": 18,
   "id": "4b33b31c-d9c4-42a4-ab96-6a83f77561b2",
   "metadata": {},
   "outputs": [
    {
     "name": "stdout",
     "output_type": "stream",
     "text": [
      "subgradient for step 0 is [-1.5  3.  -0.9 -3. ]\n",
      "subgradient for step 1 is [-3. -6. -6.  3.]\n",
      "subgradient for step 2 is [-4.5 -0.6  7.5 -3. ]\n"
     ]
    }
   ],
   "source": [
    "print('Beginning HW written problem 1')\n",
    "\n",
    "data = np.array([[0.5,-1,0.3,1], [-1,-2,-2,-1], [1.5,0.2,-2.5,1]])\n",
    "x = data[:,:3]\n",
    "y = data[:,-1]\n",
    "lrs = [0.01, 0.005, 0.0025]\n",
    "### wrap in b\n",
    "x = np.concatenate((x, np.ones((x.shape[0],1))), axis=1)\n",
    "w_0 = np.zeros((x.shape[1]-1,))\n",
    "w = np.zeros((x.shape[1],))\n",
    "N = len(x)\n",
    "C = 1\n",
    "### 3 steps w/ given learning rate\n",
    "for i,lr in enumerate(lrs):\n",
    "    label = y[i]\n",
    "     # np.sign(x @ w)\n",
    "    pred = x[i] @ w\n",
    "    margin = label*pred\n",
    "    max_term = np.max((0, 1-margin)) \n",
    "    if max_term: ### if margin is smaller than 1\n",
    "        grad = np.concatenate((w_0,[0])) - (C*N*label*x[i])\n",
    "        print(f'subgradient for step {i} is {grad}')\n",
    "        w = w - lr * grad\n",
    "    else: ### if margin greater or equal to 1\n",
    "        print(f'subgradient for step {i} is {np.concatenate((w_0,[0]))=}')\n",
    "        w_0 = w_0 - (lr * w_0)\n"
   ]
  },
  {
   "cell_type": "markdown",
   "id": "394a876b-07bc-4a3d-a4d7-a214a42b0c1d",
   "metadata": {},
   "source": [
    "### 3A) SVM Dual Domain"
   ]
  },
  {
   "cell_type": "code",
   "execution_count": 178,
   "id": "2a165361-2fe1-40b0-a978-6f602b064dc5",
   "metadata": {},
   "outputs": [],
   "source": [
    "from scipy.optimize import minimize \n",
    "from typing import Callable\n",
    "import pickle\n",
    "\n",
    "def gaussian_kernel(X1,X2,gamma=0.1): \n",
    "    norm_diff_squared = ((X1 - X2)**2).sum(axis=-1)\n",
    "    return np.exp(-1 * (norm_diff_squared / gamma))\n",
    "    \n",
    "def identity_kernel(X1,X2):\n",
    "    return (X1 * X2).sum(axis=-1)\n",
    "\n",
    "def objective(a,C,X,y,kernel: Callable):\n",
    "    indexes = np.arange(len(X))\n",
    "    i_s,j_s = np.meshgrid(indexes, indexes)\n",
    "    term1 = y[i_s] * y[j_s] * a[i_s] * a[j_s] \\\n",
    "            * kernel(X[i_s],X[j_s])\n",
    "    term1 = 0.5 * term1.sum()\n",
    "    term2 = a.sum()\n",
    "    return term1 - term2\n",
    "\n",
    "y = y_train"
   ]
  },
  {
   "cell_type": "markdown",
   "id": "50117fd1-5fe6-42d0-829e-15c8b75831cd",
   "metadata": {},
   "source": [
    "### Identity Kernel/ No Kernel w/ different Cs"
   ]
  },
  {
   "cell_type": "code",
   "execution_count": 280,
   "id": "b4d61ed7-0fb7-418d-962b-3a28c8165eb2",
   "metadata": {},
   "outputs": [
    {
     "name": "stdout",
     "output_type": "stream",
     "text": [
      "starting SVM duel with various C values and no kernel\n"
     ]
    }
   ],
   "source": [
    "# print('starting SVM duel with various C values and no kernel')\n",
    "\n",
    "### comment out scipy minimize and load from pkl files\n",
    "\n",
    "# Cs = [100/873, 500 / 873, 700 / 873]\n",
    "# optims = []\n",
    "# for C in Cs:\n",
    "#     y = y_train\n",
    "#     a = np.zeros((len(x_train))) \n",
    "#     constraints = ({'type': 'ineq','fun': lambda a: a },\n",
    "#                {'type': 'ineq', 'args': (C,),'fun': lambda a,C: C-a},\n",
    "#                {'type': 'eq', 'args': (y,),'fun': lambda a,y: (a*y).sum()}\n",
    "#               )\n",
    "#     optim = minimize(objective, \n",
    "#                     x0 = a, \n",
    "#                     args = ((C,x_train,y_train,identity_kernel,)),\n",
    "#                     constraints=constraints)\n",
    "#     optims.append(optim)\n",
    "#     with open(f'C_{C:.2f}.pkl','wb') as f:\n",
    "#         pickle.dump(optim, f, protocol=pickle.HIGHEST_PROTOCOL)\n",
    "\n"
   ]
  },
  {
   "cell_type": "code",
   "execution_count": 206,
   "id": "2992b507-01e0-4bea-9465-8afd5ae9b871",
   "metadata": {},
   "outputs": [
    {
     "name": "stdout",
     "output_type": "stream",
     "text": [
      "./C_0.11.pkl\n",
      "./C_0.57.pkl\n",
      "./C_0.80.pkl\n"
     ]
    }
   ],
   "source": [
    "from glob import glob\n",
    "optims = []\n",
    "for optim_file in glob('./C_*'):\n",
    "    print(optim_file)\n",
    "    with open(optim_file, 'rb') as f:\n",
    "        optims.append(pickle.load(f))\n",
    "    "
   ]
  },
  {
   "cell_type": "code",
   "execution_count": 207,
   "id": "157c0748-a21b-4322-b166-2eacd600ba9b",
   "metadata": {},
   "outputs": [
    {
     "data": {
      "text/plain": [
       " message: Optimization terminated successfully\n",
       " success: True\n",
       "  status: 0\n",
       "     fun: -3.99728555521732\n",
       "       x: [-1.435e-11 -1.162e-11 ... -8.154e-12  7.617e-12]\n",
       "     nit: 17\n",
       "     jac: [ 7.068e-01  2.791e+00 ...  3.021e+00  1.407e+00]\n",
       "    nfev: 14850\n",
       "    njev: 17"
      ]
     },
     "execution_count": 207,
     "metadata": {},
     "output_type": "execute_result"
    }
   ],
   "source": [
    "optims[0]"
   ]
  },
  {
   "cell_type": "code",
   "execution_count": 226,
   "id": "00f8c27c-17ac-4bee-80f2-e64047b3d8e1",
   "metadata": {},
   "outputs": [
    {
     "name": "stdout",
     "output_type": "stream",
     "text": [
      "[w;b] = [-9.42926198e-01 -6.51491781e-01 -7.33721938e-01 -4.10218921e-02\n",
      "  4.21446305e-16  2.51728412e+00]\n",
      "dual SVM w no kernel and C=0.114548,\n",
      " train_acc=0.9736238532110092, \n",
      " test_acc=0.97\n",
      "[w;b] = [-9.42926198e-01 -6.51491781e-01 -7.33721938e-01 -4.10218921e-02\n",
      "  4.21446305e-16  2.51728412e+00]\n",
      "dual SVM w no kernel and C=0.572738,\n",
      " train_acc=0.9736238532110092, \n",
      " test_acc=0.97\n",
      "[w;b] = [-9.42926198e-01 -6.51491781e-01 -7.33721938e-01 -4.10218921e-02\n",
      "  4.21446305e-16  2.51728412e+00]\n",
      "dual SVM w no kernel and C=0.801833,\n",
      " train_acc=0.9736238532110092, \n",
      " test_acc=0.97\n"
     ]
    }
   ],
   "source": [
    "for i,optim in enumerate(optims): \n",
    "    a = optim['x']\n",
    "    w = np.sum((x_train.T * (a * y_train)),axis=1)\n",
    "    b = [np.mean(y_train - (x_train @ w))] \n",
    "    train_preds = np.sign((x_train @ w) + b)\n",
    "    test_preds = np.sign((x_test @ w) + b)\n",
    "    train_acc = (train_preds == y_train).mean()\n",
    "    test_acc = (test_preds == y_test).mean()\n",
    "    print(f'[w;b] = {np.concatenate((w,b))}')\n",
    "    print(f'dual SVM w no kernel and C={Cs[i]:2f},\\n {train_acc=}, \\n {test_acc=}')"
   ]
  },
  {
   "cell_type": "markdown",
   "id": "1a34dafe-3588-4f38-9fa4-920559411faa",
   "metadata": {},
   "source": [
    "### 3B) Gaussian Kernel w/ different C settings and gamma settings "
   ]
  },
  {
   "cell_type": "code",
   "execution_count": null,
   "id": "d0442954-17cd-4d7f-bde7-fbf149699e65",
   "metadata": {},
   "outputs": [],
   "source": [
    "def gaussian_kernel(X1,X2,gamma=0.1): \n",
    "    norm_diff_squared = ((X1 - X2)**2).sum(axis=-1)\n",
    "    return np.exp(-1 * (norm_diff_squared / gamma))\n",
    "def objective(a,C,X,y,kernel: Callable):\n",
    "    indexes = np.arange(len(X))\n",
    "    i_s,j_s = np.meshgrid(indexes, indexes)\n",
    "    term1 = y[i_s] * y[j_s] * a[i_s] * a[j_s] \\\n",
    "            * kernel(X[i_s],X[j_s])\n",
    "    term1 = 0.5 * term1.sum()\n",
    "    term2 = a.sum()\n",
    "    return term1 - term2"
   ]
  },
  {
   "cell_type": "code",
   "execution_count": 251,
   "id": "57ab920c-1de7-4dab-a4ed-61315cb27222",
   "metadata": {
    "collapsed": true,
    "jupyter": {
     "outputs_hidden": true
    }
   },
   "outputs": [
    {
     "ename": "KeyboardInterrupt",
     "evalue": "",
     "output_type": "error",
     "traceback": [
      "\u001b[0;31m---------------------------------------------------------------------------\u001b[0m",
      "\u001b[0;31mKeyboardInterrupt\u001b[0m                         Traceback (most recent call last)",
      "Cell \u001b[0;32mIn[251], line 14\u001b[0m\n\u001b[1;32m      9\u001b[0m a \u001b[38;5;241m=\u001b[39m np\u001b[38;5;241m.\u001b[39mzeros((\u001b[38;5;28mlen\u001b[39m(x_train))) \n\u001b[1;32m     10\u001b[0m constraints \u001b[38;5;241m=\u001b[39m ({\u001b[38;5;124m'\u001b[39m\u001b[38;5;124mtype\u001b[39m\u001b[38;5;124m'\u001b[39m: \u001b[38;5;124m'\u001b[39m\u001b[38;5;124mineq\u001b[39m\u001b[38;5;124m'\u001b[39m,\u001b[38;5;124m'\u001b[39m\u001b[38;5;124mfun\u001b[39m\u001b[38;5;124m'\u001b[39m: \u001b[38;5;28;01mlambda\u001b[39;00m a: a },\n\u001b[1;32m     11\u001b[0m        {\u001b[38;5;124m'\u001b[39m\u001b[38;5;124mtype\u001b[39m\u001b[38;5;124m'\u001b[39m: \u001b[38;5;124m'\u001b[39m\u001b[38;5;124mineq\u001b[39m\u001b[38;5;124m'\u001b[39m, \u001b[38;5;124m'\u001b[39m\u001b[38;5;124margs\u001b[39m\u001b[38;5;124m'\u001b[39m: (C,),\u001b[38;5;124m'\u001b[39m\u001b[38;5;124mfun\u001b[39m\u001b[38;5;124m'\u001b[39m: \u001b[38;5;28;01mlambda\u001b[39;00m a,C: C\u001b[38;5;241m-\u001b[39ma},\n\u001b[1;32m     12\u001b[0m        {\u001b[38;5;124m'\u001b[39m\u001b[38;5;124mtype\u001b[39m\u001b[38;5;124m'\u001b[39m: \u001b[38;5;124m'\u001b[39m\u001b[38;5;124meq\u001b[39m\u001b[38;5;124m'\u001b[39m, \u001b[38;5;124m'\u001b[39m\u001b[38;5;124margs\u001b[39m\u001b[38;5;124m'\u001b[39m: (y,),\u001b[38;5;124m'\u001b[39m\u001b[38;5;124mfun\u001b[39m\u001b[38;5;124m'\u001b[39m: \u001b[38;5;28;01mlambda\u001b[39;00m a,y: (a\u001b[38;5;241m*\u001b[39my)\u001b[38;5;241m.\u001b[39msum()}\n\u001b[1;32m     13\u001b[0m       )\n\u001b[0;32m---> 14\u001b[0m optim \u001b[38;5;241m=\u001b[39m \u001b[43mminimize\u001b[49m\u001b[43m(\u001b[49m\u001b[43mobjective\u001b[49m\u001b[43m,\u001b[49m\u001b[43m \u001b[49m\n\u001b[1;32m     15\u001b[0m \u001b[43m                \u001b[49m\u001b[43mx0\u001b[49m\u001b[43m \u001b[49m\u001b[38;5;241;43m=\u001b[39;49m\u001b[43m \u001b[49m\u001b[43ma\u001b[49m\u001b[43m,\u001b[49m\u001b[43m \u001b[49m\n\u001b[1;32m     16\u001b[0m \u001b[43m                \u001b[49m\u001b[43margs\u001b[49m\u001b[43m \u001b[49m\u001b[38;5;241;43m=\u001b[39;49m\u001b[43m \u001b[49m\u001b[43m(\u001b[49m\u001b[43m(\u001b[49m\u001b[43mC\u001b[49m\u001b[43m,\u001b[49m\u001b[43mx_train\u001b[49m\u001b[43m,\u001b[49m\u001b[43my_train\u001b[49m\u001b[43m,\u001b[49m\u001b[43mkernel\u001b[49m\u001b[43m,\u001b[49m\u001b[43m)\u001b[49m\u001b[43m)\u001b[49m\u001b[43m,\u001b[49m\n\u001b[1;32m     17\u001b[0m \u001b[43m                \u001b[49m\u001b[43mconstraints\u001b[49m\u001b[38;5;241;43m=\u001b[39;49m\u001b[43mconstraints\u001b[49m\u001b[43m)\u001b[49m\n\u001b[1;32m     18\u001b[0m optims\u001b[38;5;241m.\u001b[39mappend(optim)\n\u001b[1;32m     19\u001b[0m \u001b[38;5;28;01mwith\u001b[39;00m \u001b[38;5;28mopen\u001b[39m(\u001b[38;5;124mf\u001b[39m\u001b[38;5;124m'\u001b[39m\u001b[38;5;124mgaussk_\u001b[39m\u001b[38;5;132;01m{\u001b[39;00mgamma\u001b[38;5;132;01m}\u001b[39;00m\u001b[38;5;124m_\u001b[39m\u001b[38;5;132;01m{\u001b[39;00mC\u001b[38;5;132;01m:\u001b[39;00m\u001b[38;5;124m.2f\u001b[39m\u001b[38;5;132;01m}\u001b[39;00m\u001b[38;5;124m.pkl\u001b[39m\u001b[38;5;124m'\u001b[39m,\u001b[38;5;124m'\u001b[39m\u001b[38;5;124mwb\u001b[39m\u001b[38;5;124m'\u001b[39m) \u001b[38;5;28;01mas\u001b[39;00m f:\n",
      "File \u001b[0;32m/opt/homebrew/Caskroom/miniforge/base/envs/opt/lib/python3.11/site-packages/scipy/optimize/_minimize.py:719\u001b[0m, in \u001b[0;36mminimize\u001b[0;34m(fun, x0, args, method, jac, hess, hessp, bounds, constraints, tol, callback, options)\u001b[0m\n\u001b[1;32m    716\u001b[0m     res \u001b[38;5;241m=\u001b[39m _minimize_cobyla(fun, x0, args, constraints, callback\u001b[38;5;241m=\u001b[39mcallback,\n\u001b[1;32m    717\u001b[0m                            bounds\u001b[38;5;241m=\u001b[39mbounds, \u001b[38;5;241m*\u001b[39m\u001b[38;5;241m*\u001b[39moptions)\n\u001b[1;32m    718\u001b[0m \u001b[38;5;28;01melif\u001b[39;00m meth \u001b[38;5;241m==\u001b[39m \u001b[38;5;124m'\u001b[39m\u001b[38;5;124mslsqp\u001b[39m\u001b[38;5;124m'\u001b[39m:\n\u001b[0;32m--> 719\u001b[0m     res \u001b[38;5;241m=\u001b[39m \u001b[43m_minimize_slsqp\u001b[49m\u001b[43m(\u001b[49m\u001b[43mfun\u001b[49m\u001b[43m,\u001b[49m\u001b[43m \u001b[49m\u001b[43mx0\u001b[49m\u001b[43m,\u001b[49m\u001b[43m \u001b[49m\u001b[43margs\u001b[49m\u001b[43m,\u001b[49m\u001b[43m \u001b[49m\u001b[43mjac\u001b[49m\u001b[43m,\u001b[49m\u001b[43m \u001b[49m\u001b[43mbounds\u001b[49m\u001b[43m,\u001b[49m\n\u001b[1;32m    720\u001b[0m \u001b[43m                          \u001b[49m\u001b[43mconstraints\u001b[49m\u001b[43m,\u001b[49m\u001b[43m \u001b[49m\u001b[43mcallback\u001b[49m\u001b[38;5;241;43m=\u001b[39;49m\u001b[43mcallback\u001b[49m\u001b[43m,\u001b[49m\u001b[43m \u001b[49m\u001b[38;5;241;43m*\u001b[39;49m\u001b[38;5;241;43m*\u001b[39;49m\u001b[43moptions\u001b[49m\u001b[43m)\u001b[49m\n\u001b[1;32m    721\u001b[0m \u001b[38;5;28;01melif\u001b[39;00m meth \u001b[38;5;241m==\u001b[39m \u001b[38;5;124m'\u001b[39m\u001b[38;5;124mtrust-constr\u001b[39m\u001b[38;5;124m'\u001b[39m:\n\u001b[1;32m    722\u001b[0m     res \u001b[38;5;241m=\u001b[39m _minimize_trustregion_constr(fun, x0, args, jac, hess, hessp,\n\u001b[1;32m    723\u001b[0m                                        bounds, constraints,\n\u001b[1;32m    724\u001b[0m                                        callback\u001b[38;5;241m=\u001b[39mcallback, \u001b[38;5;241m*\u001b[39m\u001b[38;5;241m*\u001b[39moptions)\n",
      "File \u001b[0;32m/opt/homebrew/Caskroom/miniforge/base/envs/opt/lib/python3.11/site-packages/scipy/optimize/_slsqp_py.py:432\u001b[0m, in \u001b[0;36m_minimize_slsqp\u001b[0;34m(func, x0, args, jac, bounds, constraints, maxiter, ftol, iprint, disp, eps, callback, finite_diff_rel_step, **unknown_options)\u001b[0m\n\u001b[1;32m    429\u001b[0m     c \u001b[38;5;241m=\u001b[39m _eval_constraint(x, cons)\n\u001b[1;32m    431\u001b[0m \u001b[38;5;28;01mif\u001b[39;00m mode \u001b[38;5;241m==\u001b[39m \u001b[38;5;241m-\u001b[39m\u001b[38;5;241m1\u001b[39m:  \u001b[38;5;66;03m# gradient evaluation required\u001b[39;00m\n\u001b[0;32m--> 432\u001b[0m     g \u001b[38;5;241m=\u001b[39m append(\u001b[43mwrapped_grad\u001b[49m\u001b[43m(\u001b[49m\u001b[43mx\u001b[49m\u001b[43m)\u001b[49m, \u001b[38;5;241m0.0\u001b[39m)\n\u001b[1;32m    433\u001b[0m     a \u001b[38;5;241m=\u001b[39m _eval_con_normals(x, cons, la, n, m, meq, mieq)\n\u001b[1;32m    435\u001b[0m \u001b[38;5;28;01mif\u001b[39;00m majiter \u001b[38;5;241m>\u001b[39m majiter_prev:\n\u001b[1;32m    436\u001b[0m     \u001b[38;5;66;03m# call callback if major iteration has incremented\u001b[39;00m\n",
      "File \u001b[0;32m/opt/homebrew/Caskroom/miniforge/base/envs/opt/lib/python3.11/site-packages/scipy/optimize/_optimize.py:397\u001b[0m, in \u001b[0;36m_clip_x_for_func.<locals>.eval\u001b[0;34m(x)\u001b[0m\n\u001b[1;32m    395\u001b[0m \u001b[38;5;28;01mdef\u001b[39;00m \u001b[38;5;21meval\u001b[39m(x):\n\u001b[1;32m    396\u001b[0m     x \u001b[38;5;241m=\u001b[39m _check_clip_x(x, bounds)\n\u001b[0;32m--> 397\u001b[0m     \u001b[38;5;28;01mreturn\u001b[39;00m \u001b[43mfunc\u001b[49m\u001b[43m(\u001b[49m\u001b[43mx\u001b[49m\u001b[43m)\u001b[49m\n",
      "File \u001b[0;32m/opt/homebrew/Caskroom/miniforge/base/envs/opt/lib/python3.11/site-packages/scipy/optimize/_differentiable_functions.py:273\u001b[0m, in \u001b[0;36mScalarFunction.grad\u001b[0;34m(self, x)\u001b[0m\n\u001b[1;32m    271\u001b[0m \u001b[38;5;28;01mif\u001b[39;00m \u001b[38;5;129;01mnot\u001b[39;00m np\u001b[38;5;241m.\u001b[39marray_equal(x, \u001b[38;5;28mself\u001b[39m\u001b[38;5;241m.\u001b[39mx):\n\u001b[1;32m    272\u001b[0m     \u001b[38;5;28mself\u001b[39m\u001b[38;5;241m.\u001b[39m_update_x_impl(x)\n\u001b[0;32m--> 273\u001b[0m \u001b[38;5;28;43mself\u001b[39;49m\u001b[38;5;241;43m.\u001b[39;49m\u001b[43m_update_grad\u001b[49m\u001b[43m(\u001b[49m\u001b[43m)\u001b[49m\n\u001b[1;32m    274\u001b[0m \u001b[38;5;28;01mreturn\u001b[39;00m \u001b[38;5;28mself\u001b[39m\u001b[38;5;241m.\u001b[39mg\n",
      "File \u001b[0;32m/opt/homebrew/Caskroom/miniforge/base/envs/opt/lib/python3.11/site-packages/scipy/optimize/_differentiable_functions.py:256\u001b[0m, in \u001b[0;36mScalarFunction._update_grad\u001b[0;34m(self)\u001b[0m\n\u001b[1;32m    254\u001b[0m \u001b[38;5;28;01mdef\u001b[39;00m \u001b[38;5;21m_update_grad\u001b[39m(\u001b[38;5;28mself\u001b[39m):\n\u001b[1;32m    255\u001b[0m     \u001b[38;5;28;01mif\u001b[39;00m \u001b[38;5;129;01mnot\u001b[39;00m \u001b[38;5;28mself\u001b[39m\u001b[38;5;241m.\u001b[39mg_updated:\n\u001b[0;32m--> 256\u001b[0m         \u001b[38;5;28;43mself\u001b[39;49m\u001b[38;5;241;43m.\u001b[39;49m\u001b[43m_update_grad_impl\u001b[49m\u001b[43m(\u001b[49m\u001b[43m)\u001b[49m\n\u001b[1;32m    257\u001b[0m         \u001b[38;5;28mself\u001b[39m\u001b[38;5;241m.\u001b[39mg_updated \u001b[38;5;241m=\u001b[39m \u001b[38;5;28;01mTrue\u001b[39;00m\n",
      "File \u001b[0;32m/opt/homebrew/Caskroom/miniforge/base/envs/opt/lib/python3.11/site-packages/scipy/optimize/_differentiable_functions.py:173\u001b[0m, in \u001b[0;36mScalarFunction.__init__.<locals>.update_grad\u001b[0;34m()\u001b[0m\n\u001b[1;32m    171\u001b[0m \u001b[38;5;28mself\u001b[39m\u001b[38;5;241m.\u001b[39m_update_fun()\n\u001b[1;32m    172\u001b[0m \u001b[38;5;28mself\u001b[39m\u001b[38;5;241m.\u001b[39mngev \u001b[38;5;241m+\u001b[39m\u001b[38;5;241m=\u001b[39m \u001b[38;5;241m1\u001b[39m\n\u001b[0;32m--> 173\u001b[0m \u001b[38;5;28mself\u001b[39m\u001b[38;5;241m.\u001b[39mg \u001b[38;5;241m=\u001b[39m \u001b[43mapprox_derivative\u001b[49m\u001b[43m(\u001b[49m\u001b[43mfun_wrapped\u001b[49m\u001b[43m,\u001b[49m\u001b[43m \u001b[49m\u001b[38;5;28;43mself\u001b[39;49m\u001b[38;5;241;43m.\u001b[39;49m\u001b[43mx\u001b[49m\u001b[43m,\u001b[49m\u001b[43m \u001b[49m\u001b[43mf0\u001b[49m\u001b[38;5;241;43m=\u001b[39;49m\u001b[38;5;28;43mself\u001b[39;49m\u001b[38;5;241;43m.\u001b[39;49m\u001b[43mf\u001b[49m\u001b[43m,\u001b[49m\n\u001b[1;32m    174\u001b[0m \u001b[43m                           \u001b[49m\u001b[38;5;241;43m*\u001b[39;49m\u001b[38;5;241;43m*\u001b[39;49m\u001b[43mfinite_diff_options\u001b[49m\u001b[43m)\u001b[49m\n",
      "File \u001b[0;32m/opt/homebrew/Caskroom/miniforge/base/envs/opt/lib/python3.11/site-packages/scipy/optimize/_numdiff.py:505\u001b[0m, in \u001b[0;36mapprox_derivative\u001b[0;34m(fun, x0, method, rel_step, abs_step, f0, bounds, sparsity, as_linear_operator, args, kwargs)\u001b[0m\n\u001b[1;32m    502\u001b[0m     use_one_sided \u001b[38;5;241m=\u001b[39m \u001b[38;5;28;01mFalse\u001b[39;00m\n\u001b[1;32m    504\u001b[0m \u001b[38;5;28;01mif\u001b[39;00m sparsity \u001b[38;5;129;01mis\u001b[39;00m \u001b[38;5;28;01mNone\u001b[39;00m:\n\u001b[0;32m--> 505\u001b[0m     \u001b[38;5;28;01mreturn\u001b[39;00m \u001b[43m_dense_difference\u001b[49m\u001b[43m(\u001b[49m\u001b[43mfun_wrapped\u001b[49m\u001b[43m,\u001b[49m\u001b[43m \u001b[49m\u001b[43mx0\u001b[49m\u001b[43m,\u001b[49m\u001b[43m \u001b[49m\u001b[43mf0\u001b[49m\u001b[43m,\u001b[49m\u001b[43m \u001b[49m\u001b[43mh\u001b[49m\u001b[43m,\u001b[49m\n\u001b[1;32m    506\u001b[0m \u001b[43m                             \u001b[49m\u001b[43muse_one_sided\u001b[49m\u001b[43m,\u001b[49m\u001b[43m \u001b[49m\u001b[43mmethod\u001b[49m\u001b[43m)\u001b[49m\n\u001b[1;32m    507\u001b[0m \u001b[38;5;28;01melse\u001b[39;00m:\n\u001b[1;32m    508\u001b[0m     \u001b[38;5;28;01mif\u001b[39;00m \u001b[38;5;129;01mnot\u001b[39;00m issparse(sparsity) \u001b[38;5;129;01mand\u001b[39;00m \u001b[38;5;28mlen\u001b[39m(sparsity) \u001b[38;5;241m==\u001b[39m \u001b[38;5;241m2\u001b[39m:\n",
      "File \u001b[0;32m/opt/homebrew/Caskroom/miniforge/base/envs/opt/lib/python3.11/site-packages/scipy/optimize/_numdiff.py:576\u001b[0m, in \u001b[0;36m_dense_difference\u001b[0;34m(fun, x0, f0, h, use_one_sided, method)\u001b[0m\n\u001b[1;32m    574\u001b[0m     x \u001b[38;5;241m=\u001b[39m x0 \u001b[38;5;241m+\u001b[39m h_vecs[i]\n\u001b[1;32m    575\u001b[0m     dx \u001b[38;5;241m=\u001b[39m x[i] \u001b[38;5;241m-\u001b[39m x0[i]  \u001b[38;5;66;03m# Recompute dx as exactly representable number.\u001b[39;00m\n\u001b[0;32m--> 576\u001b[0m     df \u001b[38;5;241m=\u001b[39m \u001b[43mfun\u001b[49m\u001b[43m(\u001b[49m\u001b[43mx\u001b[49m\u001b[43m)\u001b[49m \u001b[38;5;241m-\u001b[39m f0\n\u001b[1;32m    577\u001b[0m \u001b[38;5;28;01melif\u001b[39;00m method \u001b[38;5;241m==\u001b[39m \u001b[38;5;124m'\u001b[39m\u001b[38;5;124m3-point\u001b[39m\u001b[38;5;124m'\u001b[39m \u001b[38;5;129;01mand\u001b[39;00m use_one_sided[i]:\n\u001b[1;32m    578\u001b[0m     x1 \u001b[38;5;241m=\u001b[39m x0 \u001b[38;5;241m+\u001b[39m h_vecs[i]\n",
      "File \u001b[0;32m/opt/homebrew/Caskroom/miniforge/base/envs/opt/lib/python3.11/site-packages/scipy/optimize/_numdiff.py:456\u001b[0m, in \u001b[0;36mapprox_derivative.<locals>.fun_wrapped\u001b[0;34m(x)\u001b[0m\n\u001b[1;32m    455\u001b[0m \u001b[38;5;28;01mdef\u001b[39;00m \u001b[38;5;21mfun_wrapped\u001b[39m(x):\n\u001b[0;32m--> 456\u001b[0m     f \u001b[38;5;241m=\u001b[39m np\u001b[38;5;241m.\u001b[39matleast_1d(\u001b[43mfun\u001b[49m\u001b[43m(\u001b[49m\u001b[43mx\u001b[49m\u001b[43m,\u001b[49m\u001b[43m \u001b[49m\u001b[38;5;241;43m*\u001b[39;49m\u001b[43margs\u001b[49m\u001b[43m,\u001b[49m\u001b[43m \u001b[49m\u001b[38;5;241;43m*\u001b[39;49m\u001b[38;5;241;43m*\u001b[39;49m\u001b[43mkwargs\u001b[49m\u001b[43m)\u001b[49m)\n\u001b[1;32m    457\u001b[0m     \u001b[38;5;28;01mif\u001b[39;00m f\u001b[38;5;241m.\u001b[39mndim \u001b[38;5;241m>\u001b[39m \u001b[38;5;241m1\u001b[39m:\n\u001b[1;32m    458\u001b[0m         \u001b[38;5;28;01mraise\u001b[39;00m \u001b[38;5;167;01mRuntimeError\u001b[39;00m(\u001b[38;5;124m\"\u001b[39m\u001b[38;5;124m`fun` return value has \u001b[39m\u001b[38;5;124m\"\u001b[39m\n\u001b[1;32m    459\u001b[0m                            \u001b[38;5;124m\"\u001b[39m\u001b[38;5;124mmore than 1 dimension.\u001b[39m\u001b[38;5;124m\"\u001b[39m)\n",
      "File \u001b[0;32m/opt/homebrew/Caskroom/miniforge/base/envs/opt/lib/python3.11/site-packages/scipy/optimize/_differentiable_functions.py:137\u001b[0m, in \u001b[0;36mScalarFunction.__init__.<locals>.fun_wrapped\u001b[0;34m(x)\u001b[0m\n\u001b[1;32m    133\u001b[0m \u001b[38;5;28mself\u001b[39m\u001b[38;5;241m.\u001b[39mnfev \u001b[38;5;241m+\u001b[39m\u001b[38;5;241m=\u001b[39m \u001b[38;5;241m1\u001b[39m\n\u001b[1;32m    134\u001b[0m \u001b[38;5;66;03m# Send a copy because the user may overwrite it.\u001b[39;00m\n\u001b[1;32m    135\u001b[0m \u001b[38;5;66;03m# Overwriting results in undefined behaviour because\u001b[39;00m\n\u001b[1;32m    136\u001b[0m \u001b[38;5;66;03m# fun(self.x) will change self.x, with the two no longer linked.\u001b[39;00m\n\u001b[0;32m--> 137\u001b[0m fx \u001b[38;5;241m=\u001b[39m \u001b[43mfun\u001b[49m\u001b[43m(\u001b[49m\u001b[43mnp\u001b[49m\u001b[38;5;241;43m.\u001b[39;49m\u001b[43mcopy\u001b[49m\u001b[43m(\u001b[49m\u001b[43mx\u001b[49m\u001b[43m)\u001b[49m\u001b[43m,\u001b[49m\u001b[43m \u001b[49m\u001b[38;5;241;43m*\u001b[39;49m\u001b[43margs\u001b[49m\u001b[43m)\u001b[49m\n\u001b[1;32m    138\u001b[0m \u001b[38;5;66;03m# Make sure the function returns a true scalar\u001b[39;00m\n\u001b[1;32m    139\u001b[0m \u001b[38;5;28;01mif\u001b[39;00m \u001b[38;5;129;01mnot\u001b[39;00m np\u001b[38;5;241m.\u001b[39misscalar(fx):\n",
      "Cell \u001b[0;32mIn[178], line 15\u001b[0m, in \u001b[0;36mobjective\u001b[0;34m(a, C, X, y, kernel)\u001b[0m\n\u001b[1;32m     12\u001b[0m indexes \u001b[38;5;241m=\u001b[39m np\u001b[38;5;241m.\u001b[39marange(\u001b[38;5;28mlen\u001b[39m(X))\n\u001b[1;32m     13\u001b[0m i_s,j_s \u001b[38;5;241m=\u001b[39m np\u001b[38;5;241m.\u001b[39mmeshgrid(indexes, indexes)\n\u001b[1;32m     14\u001b[0m term1 \u001b[38;5;241m=\u001b[39m y[i_s] \u001b[38;5;241m*\u001b[39m y[j_s] \u001b[38;5;241m*\u001b[39m a[i_s] \u001b[38;5;241m*\u001b[39m a[j_s] \\\n\u001b[0;32m---> 15\u001b[0m         \u001b[38;5;241m*\u001b[39m \u001b[43mkernel\u001b[49m\u001b[43m(\u001b[49m\u001b[43mX\u001b[49m\u001b[43m[\u001b[49m\u001b[43mi_s\u001b[49m\u001b[43m]\u001b[49m\u001b[43m,\u001b[49m\u001b[43mX\u001b[49m\u001b[43m[\u001b[49m\u001b[43mj_s\u001b[49m\u001b[43m]\u001b[49m\u001b[43m)\u001b[49m\n\u001b[1;32m     16\u001b[0m term1 \u001b[38;5;241m=\u001b[39m \u001b[38;5;241m0.5\u001b[39m \u001b[38;5;241m*\u001b[39m term1\u001b[38;5;241m.\u001b[39msum()\n\u001b[1;32m     17\u001b[0m term2 \u001b[38;5;241m=\u001b[39m a\u001b[38;5;241m.\u001b[39msum()\n",
      "Cell \u001b[0;32mIn[178], line 4\u001b[0m, in \u001b[0;36mgaussian_kernel\u001b[0;34m(X1, X2, gamma)\u001b[0m\n\u001b[1;32m      1\u001b[0m \u001b[38;5;28;01mfrom\u001b[39;00m \u001b[38;5;21;01mscipy\u001b[39;00m\u001b[38;5;21;01m.\u001b[39;00m\u001b[38;5;21;01moptimize\u001b[39;00m \u001b[38;5;28;01mimport\u001b[39;00m minimize \n\u001b[1;32m      2\u001b[0m \u001b[38;5;28;01mfrom\u001b[39;00m \u001b[38;5;21;01mtyping\u001b[39;00m \u001b[38;5;28;01mimport\u001b[39;00m Callable\n\u001b[0;32m----> 4\u001b[0m \u001b[38;5;28;01mdef\u001b[39;00m \u001b[38;5;21mgaussian_kernel\u001b[39m(X1,X2,gamma\u001b[38;5;241m=\u001b[39m\u001b[38;5;241m0.1\u001b[39m): \n\u001b[1;32m      5\u001b[0m     norm_diff_squared \u001b[38;5;241m=\u001b[39m ((X1 \u001b[38;5;241m-\u001b[39m X2)\u001b[38;5;241m*\u001b[39m\u001b[38;5;241m*\u001b[39m\u001b[38;5;241m2\u001b[39m)\u001b[38;5;241m.\u001b[39msum(axis\u001b[38;5;241m=\u001b[39m\u001b[38;5;241m-\u001b[39m\u001b[38;5;241m1\u001b[39m)\n\u001b[1;32m      6\u001b[0m     \u001b[38;5;28;01mreturn\u001b[39;00m np\u001b[38;5;241m.\u001b[39mexp(\u001b[38;5;241m-\u001b[39m\u001b[38;5;241m1\u001b[39m \u001b[38;5;241m*\u001b[39m (norm_diff_squared \u001b[38;5;241m/\u001b[39m gamma))\n",
      "\u001b[0;31mKeyboardInterrupt\u001b[0m: "
     ]
    }
   ],
   "source": [
    "Cs = [100/873, 500 / 873, 700 / 873]\n",
    "gammas = [0.1, 0.5, 1, 5, 100]\n",
    "from functools import partial\n",
    "### comment out calling scipy package and load from pkl files\n",
    "\n",
    "# optims = []\n",
    "# for gamma in gammas:\n",
    "#     for C in Cs:\n",
    "#         y = y_train\n",
    "#         kernel = partial(gaussian_kernel, gamma=gamma)\n",
    "#         a = np.zeros((len(x_train))) \n",
    "#         constraints = ({'type': 'ineq','fun': lambda a: a },\n",
    "#                {'type': 'ineq', 'args': (C,),'fun': lambda a,C: C-a},\n",
    "#                {'type': 'eq', 'args': (y,),'fun': lambda a,y: (a*y).sum()}\n",
    "#               )\n",
    "#         optim = minimize(objective, \n",
    "#                         x0 = a, \n",
    "#                         args = ((C,x_train,y_train,kernel,)),\n",
    "#                         constraints=constraints)\n",
    "#         optims.append(optim)\n",
    "#         with open(f'gaussk_{gamma}_{C:.2f}.pkl','wb') as f:\n",
    "#             pickle.dump(optim, f, protocol=pickle.HIGHEST_PROTOCOL)\n",
    "            "
   ]
  },
  {
   "cell_type": "code",
   "execution_count": 275,
   "id": "18bd84c7-4ffc-4d52-b1be-1eedd2f2b24e",
   "metadata": {},
   "outputs": [
    {
     "name": "stdout",
     "output_type": "stream",
     "text": [
      "./gaussk_0.1_0.11.pkl\n",
      "./gaussk_0.1_0.57.pkl\n",
      "./gaussk_0.1_0.80.pkl\n",
      "./gaussk_0.5_0.11.pkl\n",
      "./gaussk_0.5_0.57.pkl\n",
      "./gaussk_0.5_0.80.pkl\n",
      "./gaussk_1_0.11.pkl\n",
      "./gaussk_1_0.57.pkl\n",
      "./gaussk_1_0.80.pkl\n",
      "./gaussk_5_0.11.pkl\n",
      "./gaussk_5_0.57.pkl\n",
      "./gaussk_5_0.80.pkl\n"
     ]
    }
   ],
   "source": [
    "optims_gauss = []\n",
    "files = glob('./gaussk_*')\n",
    "files.sort()\n",
    "\n",
    "for optim_file in files:\n",
    "    print(optim_file)\n",
    "    with open(optim_file, 'rb') as f:\n",
    "        optims_gauss.append(pickle.load(f))\n"
   ]
  },
  {
   "cell_type": "code",
   "execution_count": 253,
   "id": "139c6054-5ff8-454f-9322-bb2daae7019b",
   "metadata": {},
   "outputs": [],
   "source": [
    "def kernel_svm_pred(x_train, y_train, x_test, kernel, a):\n",
    "    preds = np.zeros((len(x_test)))\n",
    "    b = np.mean(y_train - (x_train @ w))\n",
    "    for i in range(len(x_test)):\n",
    "        K = np.array([kernel(x_test[i],ex) for ex in x_train])\n",
    "        pred = np.sign(((a * y_train * K).sum() + b))\n",
    "        preds[i] = pred\n",
    "    return preds"
   ]
  },
  {
   "cell_type": "code",
   "execution_count": 254,
   "id": "d54df3cb-8a75-4838-8e60-3a234ec55bb3",
   "metadata": {},
   "outputs": [
    {
     "name": "stdout",
     "output_type": "stream",
     "text": [
      "[w;b] = [-1.76133937e+02 -2.39851730e+02  4.79041739e+01 -6.83309077e-01\n",
      " -1.13797860e-15  4.83704124e+02]\n",
      "dual SVM w gauss kernel, gamma=0.1 and C=0.114548,\n",
      " train_acc=0.4461009174311927, \n",
      " test_acc=0.442\n",
      "[w;b] = [-1.76133937e+02 -2.39851730e+02  4.79041739e+01 -6.83309077e-01\n",
      " -1.13797860e-15  4.83704124e+02]\n",
      "dual SVM w gauss kernel, gamma=0.1 and C=0.572738,\n",
      " train_acc=0.4461009174311927, \n",
      " test_acc=0.442\n",
      "[w;b] = [-1.76133937e+02 -2.39851730e+02  4.79041739e+01 -6.83309077e-01\n",
      " -1.13797860e-15  4.83704124e+02]\n",
      "dual SVM w gauss kernel, gamma=0.1 and C=0.801833,\n",
      " train_acc=0.4461009174311927, \n",
      " test_acc=0.442\n",
      "[w;b] = [-1.76133937e+02 -2.39851730e+02  4.79041739e+01 -6.83309077e-01\n",
      " -1.13797860e-15  4.83704124e+02]\n",
      "dual SVM w gauss kernel, gamma=0.5 and C=0.114548,\n",
      " train_acc=0.4461009174311927, \n",
      " test_acc=0.442\n",
      "[w;b] = [-1.76133937e+02 -2.39851730e+02  4.79041739e+01 -6.83309077e-01\n",
      " -1.13797860e-15  4.83704124e+02]\n",
      "dual SVM w gauss kernel, gamma=0.5 and C=0.572738,\n",
      " train_acc=0.4461009174311927, \n",
      " test_acc=0.442\n",
      "[w;b] = [-1.76133937e+02 -2.39851730e+02  4.79041739e+01 -6.83309077e-01\n",
      " -1.13797860e-15  4.83704124e+02]\n",
      "dual SVM w gauss kernel, gamma=0.5 and C=0.801833,\n",
      " train_acc=0.4461009174311927, \n",
      " test_acc=0.442\n",
      "[w;b] = [-1.76133937e+02 -2.39851730e+02  4.79041739e+01 -6.83309077e-01\n",
      " -1.13797860e-15  4.83704124e+02]\n",
      "dual SVM w gauss kernel, gamma=1.0 and C=0.114548,\n",
      " train_acc=0.4461009174311927, \n",
      " test_acc=0.442\n",
      "[w;b] = [-1.76133937e+02 -2.39851730e+02  4.79041739e+01 -6.83309077e-01\n",
      " -1.13797860e-15  4.83704124e+02]\n",
      "dual SVM w gauss kernel, gamma=1.0 and C=0.572738,\n",
      " train_acc=0.4461009174311927, \n",
      " test_acc=0.442\n",
      "[w;b] = [-1.76133937e+02 -2.39851730e+02  4.79041739e+01 -6.83309077e-01\n",
      " -1.13797860e-15  4.83704124e+02]\n",
      "dual SVM w gauss kernel, gamma=1.0 and C=0.801833,\n",
      " train_acc=0.4461009174311927, \n",
      " test_acc=0.442\n",
      "[w;b] = [-1.76133937e+02 -2.39851730e+02  4.79041739e+01 -6.83309077e-01\n",
      " -1.13797860e-15  4.83704124e+02]\n",
      "dual SVM w gauss kernel, gamma=5.0 and C=0.114548,\n",
      " train_acc=0.4461009174311927, \n",
      " test_acc=0.442\n",
      "[w;b] = [-1.76133937e+02 -2.39851730e+02  4.79041739e+01 -6.83309077e-01\n",
      " -1.13797860e-15  4.83704124e+02]\n",
      "dual SVM w gauss kernel, gamma=5.0 and C=0.572738,\n",
      " train_acc=0.4461009174311927, \n",
      " test_acc=0.442\n",
      "[w;b] = [-1.76133937e+02 -2.39851730e+02  4.79041739e+01 -6.83309077e-01\n",
      " -1.13797860e-15  4.83704124e+02]\n",
      "dual SVM w gauss kernel, gamma=5.0 and C=0.801833,\n",
      " train_acc=0.4461009174311927, \n",
      " test_acc=0.442\n"
     ]
    }
   ],
   "source": [
    "rep_Cs = Cs*4\n",
    "for i,optim in enumerate(optims_gauss): \n",
    "    file = files[i]\n",
    "    gamma = float(file.split('_')[1])\n",
    "    C = rep_Cs[i]\n",
    "    a = optim['x']\n",
    "    kernel = partial(gaussian_kernel,gamma=gamma)\n",
    "    train_preds = kernel_svm_pred(x_train,y_train,x_train,kernel,a)\n",
    "    test_preds = kernel_svm_pred(x_train,y_train,x_test,kernel,a)\n",
    "    train_acc = (train_preds == y_train).mean()\n",
    "    test_acc = (test_preds == y_test).mean()\n",
    "    print(f'[w;b] = {np.concatenate((w,b))}')\n",
    "    print(f'dual SVM w gauss kernel, {gamma=} and C={C:2f},\\n {train_acc=}, \\n {test_acc=}')\n"
   ]
  },
  {
   "cell_type": "markdown",
   "id": "e96c299d-00d4-405a-8adc-62058b892691",
   "metadata": {},
   "source": [
    "### 3C) how many support vectors are the same for different values of gamma? "
   ]
  },
  {
   "cell_type": "code",
   "execution_count": 276,
   "id": "fdc1cb9d-d674-4eeb-9665-5142d93c8efe",
   "metadata": {},
   "outputs": [
    {
     "name": "stdout",
     "output_type": "stream",
     "text": [
      "num_support_vecs=870 for C=0.1145475372279496 and gamma=0.1\n",
      "num_support_vecs=872 for C=0.572737686139748 and gamma=0.1\n",
      "num_support_vecs=870 for C=0.8018327605956472 and gamma=0.1\n",
      "num_support_vecs=837 for C=0.1145475372279496 and gamma=0.5\n",
      "num_support_vecs=837 for C=0.572737686139748 and gamma=0.5\n",
      "num_support_vecs=825 for C=0.8018327605956472 and gamma=0.5\n",
      "num_support_vecs=818 for C=0.1145475372279496 and gamma=1.0\n",
      "num_support_vecs=811 for C=0.572737686139748 and gamma=1.0\n",
      "num_support_vecs=778 for C=0.8018327605956472 and gamma=1.0\n",
      "num_support_vecs=790 for C=0.1145475372279496 and gamma=5.0\n",
      "num_support_vecs=479 for C=0.572737686139748 and gamma=5.0\n",
      "num_support_vecs=449 for C=0.8018327605956472 and gamma=5.0\n"
     ]
    }
   ],
   "source": [
    "rep_Cs = Cs*4\n",
    "for i,optim in enumerate(optims_gauss): \n",
    "    file = files[i]\n",
    "    C = rep_Cs[i]\n",
    "    gamma = float(file.split('_')[1])\n",
    "    num_support_vecs = (optim['x'] > 0).sum()\n",
    "    print(f'{num_support_vecs=} for {C=} and {gamma=}')"
   ]
  },
  {
   "cell_type": "code",
   "execution_count": 279,
   "id": "2d019873-3f75-4c8b-8783-57bb2506646d",
   "metadata": {},
   "outputs": [
    {
     "name": "stdout",
     "output_type": "stream",
     "text": [
      "3c. begin comparing support vectors for gauss kernel SVM models w/ different gammas\n",
      "comparing gamma=0.1 and gamma=0.1, 870 790 num matching support vectors: 870\n",
      "comparing gamma=0.1 and gamma=0.5, 870 870 num matching support vectors: 836\n",
      "comparing gamma=0.1 and gamma=1, 870 837 num matching support vectors: 817\n",
      "comparing gamma=0.1 and gamma=5, 870 818 num matching support vectors: 788\n",
      "comparing gamma=0.5 and gamma=0.1, 837 790 num matching support vectors: 836\n",
      "comparing gamma=0.5 and gamma=0.5, 837 870 num matching support vectors: 837\n",
      "comparing gamma=0.5 and gamma=1, 837 837 num matching support vectors: 810\n",
      "comparing gamma=0.5 and gamma=5, 837 818 num matching support vectors: 761\n",
      "comparing gamma=1 and gamma=0.1, 818 790 num matching support vectors: 817\n",
      "comparing gamma=1 and gamma=0.5, 818 870 num matching support vectors: 810\n",
      "comparing gamma=1 and gamma=1, 818 837 num matching support vectors: 818\n",
      "comparing gamma=1 and gamma=5, 818 818 num matching support vectors: 746\n",
      "comparing gamma=5 and gamma=0.1, 790 790 num matching support vectors: 788\n",
      "comparing gamma=5 and gamma=0.5, 790 870 num matching support vectors: 761\n",
      "comparing gamma=5 and gamma=1, 790 837 num matching support vectors: 746\n",
      "comparing gamma=5 and gamma=5, 790 818 num matching support vectors: 790\n"
     ]
    }
   ],
   "source": [
    "### w/ all C = 100 / 873\n",
    "import itertools\n",
    "a = np.arange(4)\n",
    "pairs = list(itertools.product(a, a))\n",
    "files_index = np.array([0,3,6,9]) ## optimizers where C = 100/872 for diff gammas\n",
    "optims = np.array(optims_gauss)[files_index]\n",
    "print('3c. begin comparing support vectors for gauss kernel SVM models w/ different gammas')\n",
    "for pair in pairs: \n",
    "    print(f'comparing gamma={gammas[pair[0]]} and gamma={gammas[pair[1]]}', end=', ')\n",
    "    support_vecs_1 = optims[pair[0]]['x'] > 0\n",
    "    support_vecs_2 = optims[pair[1]]['x'] > 0\n",
    "    print(support_vecs_1.sum(), support_vecs_2.sum(), end=' ')\n",
    "    print(f'num matching support vectors: {np.logical_and(support_vecs_1,support_vecs_2).sum()}')"
   ]
  },
  {
   "cell_type": "markdown",
   "id": "85210221-1b4d-42ae-a25b-372490f2cf28",
   "metadata": {},
   "source": [
    "### Bonus Kernel Perceptron Alg"
   ]
  },
  {
   "cell_type": "code",
   "execution_count": 138,
   "id": "99283c69-fdd5-462d-a527-d79a56692bf9",
   "metadata": {},
   "outputs": [],
   "source": [
    "from functools import partial"
   ]
  },
  {
   "cell_type": "code",
   "execution_count": 140,
   "id": "9e7f0570-6485-478e-a704-f279cf96ff4a",
   "metadata": {},
   "outputs": [],
   "source": [
    "def kernel_perceptron_pred(x_train, y_train, x_test, kernel):\n",
    "    preds = np.zeros((len(test)))\n",
    "    for i in range(len(test)):\n",
    "        K = np.array([kernel(x_test[i],ex) for ex in x_train])\n",
    "        pred = np.sign((c * y_train * K).sum())\n",
    "        preds[i] = pred\n",
    "    return preds"
   ]
  },
  {
   "cell_type": "code",
   "execution_count": 144,
   "id": "042c082e-fcf3-4435-b51d-bab63d37e143",
   "metadata": {},
   "outputs": [
    {
     "name": "stdout",
     "output_type": "stream",
     "text": [
      "starting gaussian kernel perceptron training w/ gamma=0.1\n",
      "epoch 0 train_acc = 0.0\n",
      "epoch 1 train_acc = 1.0\n",
      "epoch 2 train_acc = 1.0\n",
      "epoch 3 train_acc = 1.0\n",
      "epoch 4 train_acc = 1.0\n",
      "epoch 5 train_acc = 1.0\n",
      "epoch 6 train_acc = 1.0\n",
      "epoch 7 train_acc = 1.0\n",
      "epoch 8 train_acc = 1.0\n",
      "epoch 9 train_acc = 1.0\n",
      "test acc: 0.998\n",
      "starting gaussian kernel perceptron training w/ gamma=0.5\n",
      "epoch 0 train_acc = 0.0\n",
      "epoch 1 train_acc = 1.0\n",
      "epoch 2 train_acc = 1.0\n",
      "epoch 3 train_acc = 1.0\n",
      "epoch 4 train_acc = 1.0\n",
      "epoch 5 train_acc = 1.0\n",
      "epoch 6 train_acc = 1.0\n",
      "epoch 7 train_acc = 1.0\n",
      "epoch 8 train_acc = 1.0\n",
      "epoch 9 train_acc = 1.0\n",
      "test acc: 0.998\n",
      "starting gaussian kernel perceptron training w/ gamma=1\n",
      "epoch 0 train_acc = 0.0\n",
      "epoch 1 train_acc = 1.0\n",
      "epoch 2 train_acc = 1.0\n",
      "epoch 3 train_acc = 1.0\n",
      "epoch 4 train_acc = 1.0\n",
      "epoch 5 train_acc = 1.0\n",
      "epoch 6 train_acc = 1.0\n",
      "epoch 7 train_acc = 1.0\n",
      "epoch 8 train_acc = 1.0\n",
      "epoch 9 train_acc = 1.0\n",
      "test acc: 0.998\n",
      "starting gaussian kernel perceptron training w/ gamma=5\n",
      "epoch 0 train_acc = 0.0\n",
      "epoch 1 train_acc = 1.0\n",
      "epoch 2 train_acc = 1.0\n",
      "epoch 3 train_acc = 1.0\n",
      "epoch 4 train_acc = 1.0\n",
      "epoch 5 train_acc = 1.0\n",
      "epoch 6 train_acc = 1.0\n",
      "epoch 7 train_acc = 1.0\n",
      "epoch 8 train_acc = 1.0\n",
      "epoch 9 train_acc = 1.0\n",
      "test acc: 0.992\n",
      "starting gaussian kernel perceptron training w/ gamma=100\n",
      "epoch 0 train_acc = 0.0\n",
      "epoch 1 train_acc = 1.0\n",
      "epoch 2 train_acc = 1.0\n",
      "epoch 3 train_acc = 1.0\n",
      "epoch 4 train_acc = 1.0\n",
      "epoch 5 train_acc = 1.0\n",
      "epoch 6 train_acc = 1.0\n",
      "epoch 7 train_acc = 1.0\n",
      "epoch 8 train_acc = 1.0\n",
      "epoch 9 train_acc = 1.0\n",
      "test acc: 0.866\n"
     ]
    }
   ],
   "source": [
    "for gamma in gammas:\n",
    "    kernel = partial(gaussian_kernel, gamma=gamma)\n",
    "    print(f'starting gaussian kernel perceptron training w/ {gamma=}')\n",
    "    c = np.zeros((len(x_train)))\n",
    "    num_epochs = 10\n",
    "    train_accs = np.zeros((num_epochs))\n",
    "    test_accs = np.zeros((num_epochs))\n",
    "    \n",
    "    for i in range(num_epochs):\n",
    "        preds = np.zeros((len(x_train)))\n",
    "        for j in range(len(x_train)):\n",
    "            K = np.array([kernel(x_train[j],ex) for ex in x_train])\n",
    "            pred = np.sign((c[j] * y_train[j] * K).sum())\n",
    "            if pred != y_train[i]:\n",
    "                c[j] = c[j] + 1\n",
    "            preds[j] = pred\n",
    "        train_accs[i] = (preds == y_train).mean()\n",
    "        print(f'epoch {i} train_acc = {train_accs[i]}')\n",
    "    \n",
    "    test_preds = kernel_perceptron_pred(x_train, y_train, x_test, kernel)\n",
    "    print(f'test acc: {(test_preds == y_test).mean()}')"
   ]
  },
  {
   "cell_type": "code",
   "execution_count": 81,
   "id": "3e40b96e-63b2-4148-a475-1c2e4e67e8b3",
   "metadata": {},
   "outputs": [],
   "source": []
  },
  {
   "cell_type": "code",
   "execution_count": null,
   "id": "3b8b78a4-e348-4b15-8826-bac7f91f1172",
   "metadata": {},
   "outputs": [],
   "source": []
  }
 ],
 "metadata": {
  "kernelspec": {
   "display_name": "opt",
   "language": "python",
   "name": "opt"
  },
  "language_info": {
   "codemirror_mode": {
    "name": "ipython",
    "version": 3
   },
   "file_extension": ".py",
   "mimetype": "text/x-python",
   "name": "python",
   "nbconvert_exporter": "python",
   "pygments_lexer": "ipython3",
   "version": "3.11.5"
  }
 },
 "nbformat": 4,
 "nbformat_minor": 5
}
